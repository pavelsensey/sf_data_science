{
 "cells": [
  {
   "cell_type": "code",
   "execution_count": 144,
   "metadata": {},
   "outputs": [],
   "source": [
    "import pandas as pd\n",
    "melb_df = pd.read_csv('data/melb_data_fe.csv')\n",
    "melb_df.head()\n",
    "melb_df['Date'] = pd.to_datetime(melb_df['Date'])\n",
    "cols_to_exclude = ['Date', 'Rooms', 'Bedroom', 'Bathroom', 'Car']\n",
    "max_unique_count = 150\n",
    "for col in melb_df.columns:\n",
    "    if melb_df[col].nunique() < max_unique_count and col not in cols_to_exclude:\n",
    "        melb_df[col] = melb_df[col].astype('category')"
   ]
  },
  {
   "attachments": {},
   "cell_type": "markdown",
   "metadata": {},
   "source": [
    "# Метод groupby как способ построения сводных таблиц"
   ]
  },
  {
   "attachments": {},
   "cell_type": "markdown",
   "metadata": {},
   "source": [
    "На самом деле мы с вами уже строили простейшие одномерные сводные таблицы с помощью метода groupby — мы рассматривали сводную таблицу в контексте группировки по одному признаку. \n",
    "\n",
    "Например, мы уже умеем строить таблицу, которая показывает зависимость медианной цены и площади здания от числа комнат:"
   ]
  },
  {
   "cell_type": "code",
   "execution_count": 145,
   "metadata": {},
   "outputs": [
    {
     "data": {
      "text/html": [
       "<div>\n",
       "<style scoped>\n",
       "    .dataframe tbody tr th:only-of-type {\n",
       "        vertical-align: middle;\n",
       "    }\n",
       "\n",
       "    .dataframe tbody tr th {\n",
       "        vertical-align: top;\n",
       "    }\n",
       "\n",
       "    .dataframe thead th {\n",
       "        text-align: right;\n",
       "    }\n",
       "</style>\n",
       "<table border=\"1\" class=\"dataframe\">\n",
       "  <thead>\n",
       "    <tr style=\"text-align: right;\">\n",
       "      <th></th>\n",
       "      <th>Price</th>\n",
       "      <th>BuildingArea</th>\n",
       "    </tr>\n",
       "    <tr>\n",
       "      <th>Rooms</th>\n",
       "      <th></th>\n",
       "      <th></th>\n",
       "    </tr>\n",
       "  </thead>\n",
       "  <tbody>\n",
       "    <tr>\n",
       "      <th>1</th>\n",
       "      <td>385000.0</td>\n",
       "      <td>107.0</td>\n",
       "    </tr>\n",
       "    <tr>\n",
       "      <th>2</th>\n",
       "      <td>690000.0</td>\n",
       "      <td>126.0</td>\n",
       "    </tr>\n",
       "    <tr>\n",
       "      <th>3</th>\n",
       "      <td>950000.0</td>\n",
       "      <td>126.0</td>\n",
       "    </tr>\n",
       "    <tr>\n",
       "      <th>4</th>\n",
       "      <td>1285000.0</td>\n",
       "      <td>142.0</td>\n",
       "    </tr>\n",
       "    <tr>\n",
       "      <th>5</th>\n",
       "      <td>1660000.0</td>\n",
       "      <td>176.0</td>\n",
       "    </tr>\n",
       "    <tr>\n",
       "      <th>6</th>\n",
       "      <td>1800000.0</td>\n",
       "      <td>126.0</td>\n",
       "    </tr>\n",
       "    <tr>\n",
       "      <th>7</th>\n",
       "      <td>1496000.0</td>\n",
       "      <td>216.5</td>\n",
       "    </tr>\n",
       "    <tr>\n",
       "      <th>8</th>\n",
       "      <td>1515000.0</td>\n",
       "      <td>126.0</td>\n",
       "    </tr>\n",
       "    <tr>\n",
       "      <th>10</th>\n",
       "      <td>900000.0</td>\n",
       "      <td>126.0</td>\n",
       "    </tr>\n",
       "  </tbody>\n",
       "</table>\n",
       "</div>"
      ],
      "text/plain": [
       "           Price  BuildingArea\n",
       "Rooms                         \n",
       "1       385000.0         107.0\n",
       "2       690000.0         126.0\n",
       "3       950000.0         126.0\n",
       "4      1285000.0         142.0\n",
       "5      1660000.0         176.0\n",
       "6      1800000.0         126.0\n",
       "7      1496000.0         216.5\n",
       "8      1515000.0         126.0\n",
       "10      900000.0         126.0"
      ]
     },
     "execution_count": 145,
     "metadata": {},
     "output_type": "execute_result"
    }
   ],
   "source": [
    "melb_df.groupby('Rooms')[['Price', 'BuildingArea']].median()"
   ]
  },
  {
   "attachments": {},
   "cell_type": "markdown",
   "metadata": {},
   "source": [
    "Также можно построить таблицу, в которой мы будем учитывать не только число комнат, но и тип здания (Type). Для этого в параметрах метода groupby() укажем список из нескольких интересующих нас столбцов."
   ]
  },
  {
   "cell_type": "code",
   "execution_count": 146,
   "metadata": {},
   "outputs": [
    {
     "data": {
      "text/plain": [
       "Rooms  Type     \n",
       "1      house        8.668655e+05\n",
       "       townhouse    5.927045e+05\n",
       "       unit         3.899289e+05\n",
       "2      house        1.017238e+06\n",
       "       townhouse    7.101585e+05\n",
       "       unit         6.104905e+05\n",
       "3      house        1.109233e+06\n",
       "       townhouse    9.847087e+05\n",
       "       unit         8.505963e+05\n",
       "4      house        1.462283e+06\n",
       "       townhouse    1.217092e+06\n",
       "       unit         1.037476e+06\n",
       "5      house        1.877327e+06\n",
       "       townhouse    1.035000e+06\n",
       "       unit                  NaN\n",
       "6      house        1.869508e+06\n",
       "       townhouse             NaN\n",
       "       unit         5.200000e+05\n",
       "7      house        1.920700e+06\n",
       "       townhouse             NaN\n",
       "       unit                  NaN\n",
       "8      house        1.510286e+06\n",
       "       townhouse             NaN\n",
       "       unit         2.250000e+06\n",
       "10     house        9.000000e+05\n",
       "       townhouse             NaN\n",
       "       unit                  NaN\n",
       "Name: Price, dtype: float64"
      ]
     },
     "execution_count": 146,
     "metadata": {},
     "output_type": "execute_result"
    }
   ],
   "source": [
    "melb_df.groupby(['Rooms', 'Type'])['Price'].mean()"
   ]
  },
  {
   "attachments": {},
   "cell_type": "markdown",
   "metadata": {},
   "source": [
    "В результате выполнения такого кода мы получаем Series, которая обладает несколькими уровнями индексов: первый уровень — число комнат, второй уровень — тип здания. Такая организация индексов называется иерархической. Вычисление параметра (средней цены) происходит во всех возможных комбинациях признаков.\n",
    "\n",
    "Для того, чтобы финальный результат был представлен в виде сводной таблицы (первый группировочный признак по строкам, а второй — по столбцам), а не в виде Series с иерархическими индексами, к результату чаще всего применяют метод unstack(), который позволяет переопределить вложенный индекс в виде столбцов таблицы:"
   ]
  },
  {
   "cell_type": "code",
   "execution_count": 147,
   "metadata": {},
   "outputs": [
    {
     "data": {
      "text/html": [
       "<div>\n",
       "<style scoped>\n",
       "    .dataframe tbody tr th:only-of-type {\n",
       "        vertical-align: middle;\n",
       "    }\n",
       "\n",
       "    .dataframe tbody tr th {\n",
       "        vertical-align: top;\n",
       "    }\n",
       "\n",
       "    .dataframe thead th {\n",
       "        text-align: right;\n",
       "    }\n",
       "</style>\n",
       "<table border=\"1\" class=\"dataframe\">\n",
       "  <thead>\n",
       "    <tr style=\"text-align: right;\">\n",
       "      <th>Type</th>\n",
       "      <th>house</th>\n",
       "      <th>townhouse</th>\n",
       "      <th>unit</th>\n",
       "    </tr>\n",
       "    <tr>\n",
       "      <th>Rooms</th>\n",
       "      <th></th>\n",
       "      <th></th>\n",
       "      <th></th>\n",
       "    </tr>\n",
       "  </thead>\n",
       "  <tbody>\n",
       "    <tr>\n",
       "      <th>1</th>\n",
       "      <td>8.668655e+05</td>\n",
       "      <td>5.927045e+05</td>\n",
       "      <td>3.899289e+05</td>\n",
       "    </tr>\n",
       "    <tr>\n",
       "      <th>2</th>\n",
       "      <td>1.017238e+06</td>\n",
       "      <td>7.101585e+05</td>\n",
       "      <td>6.104905e+05</td>\n",
       "    </tr>\n",
       "    <tr>\n",
       "      <th>3</th>\n",
       "      <td>1.109233e+06</td>\n",
       "      <td>9.847087e+05</td>\n",
       "      <td>8.505963e+05</td>\n",
       "    </tr>\n",
       "    <tr>\n",
       "      <th>4</th>\n",
       "      <td>1.462283e+06</td>\n",
       "      <td>1.217092e+06</td>\n",
       "      <td>1.037476e+06</td>\n",
       "    </tr>\n",
       "    <tr>\n",
       "      <th>5</th>\n",
       "      <td>1.877327e+06</td>\n",
       "      <td>1.035000e+06</td>\n",
       "      <td>NaN</td>\n",
       "    </tr>\n",
       "    <tr>\n",
       "      <th>6</th>\n",
       "      <td>1.869508e+06</td>\n",
       "      <td>NaN</td>\n",
       "      <td>5.200000e+05</td>\n",
       "    </tr>\n",
       "    <tr>\n",
       "      <th>7</th>\n",
       "      <td>1.920700e+06</td>\n",
       "      <td>NaN</td>\n",
       "      <td>NaN</td>\n",
       "    </tr>\n",
       "    <tr>\n",
       "      <th>8</th>\n",
       "      <td>1.510286e+06</td>\n",
       "      <td>NaN</td>\n",
       "      <td>2.250000e+06</td>\n",
       "    </tr>\n",
       "    <tr>\n",
       "      <th>10</th>\n",
       "      <td>9.000000e+05</td>\n",
       "      <td>NaN</td>\n",
       "      <td>NaN</td>\n",
       "    </tr>\n",
       "  </tbody>\n",
       "</table>\n",
       "</div>"
      ],
      "text/plain": [
       "Type          house     townhouse          unit\n",
       "Rooms                                          \n",
       "1      8.668655e+05  5.927045e+05  3.899289e+05\n",
       "2      1.017238e+06  7.101585e+05  6.104905e+05\n",
       "3      1.109233e+06  9.847087e+05  8.505963e+05\n",
       "4      1.462283e+06  1.217092e+06  1.037476e+06\n",
       "5      1.877327e+06  1.035000e+06           NaN\n",
       "6      1.869508e+06           NaN  5.200000e+05\n",
       "7      1.920700e+06           NaN           NaN\n",
       "8      1.510286e+06           NaN  2.250000e+06\n",
       "10     9.000000e+05           NaN           NaN"
      ]
     },
     "execution_count": 147,
     "metadata": {},
     "output_type": "execute_result"
    }
   ],
   "source": [
    "melb_df.groupby(['Rooms', 'Type'])['Price'].mean().unstack()"
   ]
  },
  {
   "attachments": {},
   "cell_type": "markdown",
   "metadata": {},
   "source": [
    "Какие интересные выводы можно сделать из этой таблицы?\n",
    "\n",
    "1. Пропуски в сводной таблице (NaN) говорят о том, что в наших данных нет соответствующих комбинаций признаков. Например, у нас нет информации о ценах на таунхаусы, где количество комнат больше пяти.\n",
    "2. Наибольшей средней стоимостью (2,25 млн. австралийских долларов) обладают объекты типа unit с восемью жилыми комнатами. Наименьшая средняя стоимость — у однокомнатных домов типа unit (чуть меньше 400 тыс. австралийских долларов).\n",
    "3. Сколько бы комнат ни было в доме, цена на объекты типа unit всегда ниже других (за исключением восьмикомнатных объектов)."
   ]
  },
  {
   "attachments": {},
   "cell_type": "markdown",
   "metadata": {},
   "source": [
    "# Метод pivot_table для построения сводных таблиц"
   ]
  },
  {
   "attachments": {},
   "cell_type": "markdown",
   "metadata": {},
   "source": [
    "    Основные параметры метода pivot_table()\n",
    "\n",
    " - values — имя столбца, по которому необходимо получить сводные данные, применяя агрегирующую функцию;\n",
    " - index — имя столбца, значения которого станут строками сводной таблицы;\n",
    " - columns — имя столбца, значения которого станут столбцами сводной таблицы;\n",
    " - aggfunc — имя или список имён агрегирующих функций (по умолчанию — подсчёт среднего, 'mean');\n",
    " - fill_value — значение, которым необходимо заполнить пропуски (по умолчанию пропуски не заполняются).\n",
    "\n"
   ]
  },
  {
   "attachments": {},
   "cell_type": "markdown",
   "metadata": {},
   "source": [
    "Давайте построим ту же самую таблицу, но уже с использованием метода pivot_table. В качестве параметра values укажем столбец Price, в качестве индексов сводной таблицы возьмём Rooms, а в качестве столбцов — Type. Агрегирующую функцию оставим по умолчанию (среднее). Дополнительно заменим пропуски в таблице на значение 0. Финальный результат для наглядности вывода округлим с помощью метода round() до целых."
   ]
  },
  {
   "cell_type": "code",
   "execution_count": 148,
   "metadata": {},
   "outputs": [
    {
     "data": {
      "text/html": [
       "<div>\n",
       "<style scoped>\n",
       "    .dataframe tbody tr th:only-of-type {\n",
       "        vertical-align: middle;\n",
       "    }\n",
       "\n",
       "    .dataframe tbody tr th {\n",
       "        vertical-align: top;\n",
       "    }\n",
       "\n",
       "    .dataframe thead th {\n",
       "        text-align: right;\n",
       "    }\n",
       "</style>\n",
       "<table border=\"1\" class=\"dataframe\">\n",
       "  <thead>\n",
       "    <tr style=\"text-align: right;\">\n",
       "      <th>Type</th>\n",
       "      <th>house</th>\n",
       "      <th>townhouse</th>\n",
       "      <th>unit</th>\n",
       "    </tr>\n",
       "    <tr>\n",
       "      <th>Rooms</th>\n",
       "      <th></th>\n",
       "      <th></th>\n",
       "      <th></th>\n",
       "    </tr>\n",
       "  </thead>\n",
       "  <tbody>\n",
       "    <tr>\n",
       "      <th>1</th>\n",
       "      <td>866866.0</td>\n",
       "      <td>592705.0</td>\n",
       "      <td>389929.0</td>\n",
       "    </tr>\n",
       "    <tr>\n",
       "      <th>2</th>\n",
       "      <td>1017238.0</td>\n",
       "      <td>710158.0</td>\n",
       "      <td>610491.0</td>\n",
       "    </tr>\n",
       "    <tr>\n",
       "      <th>3</th>\n",
       "      <td>1109233.0</td>\n",
       "      <td>984709.0</td>\n",
       "      <td>850596.0</td>\n",
       "    </tr>\n",
       "    <tr>\n",
       "      <th>4</th>\n",
       "      <td>1462283.0</td>\n",
       "      <td>1217092.0</td>\n",
       "      <td>1037476.0</td>\n",
       "    </tr>\n",
       "    <tr>\n",
       "      <th>5</th>\n",
       "      <td>1877327.0</td>\n",
       "      <td>1035000.0</td>\n",
       "      <td>0.0</td>\n",
       "    </tr>\n",
       "    <tr>\n",
       "      <th>6</th>\n",
       "      <td>1869508.0</td>\n",
       "      <td>0.0</td>\n",
       "      <td>520000.0</td>\n",
       "    </tr>\n",
       "    <tr>\n",
       "      <th>7</th>\n",
       "      <td>1920700.0</td>\n",
       "      <td>0.0</td>\n",
       "      <td>0.0</td>\n",
       "    </tr>\n",
       "    <tr>\n",
       "      <th>8</th>\n",
       "      <td>1510286.0</td>\n",
       "      <td>0.0</td>\n",
       "      <td>2250000.0</td>\n",
       "    </tr>\n",
       "    <tr>\n",
       "      <th>10</th>\n",
       "      <td>900000.0</td>\n",
       "      <td>0.0</td>\n",
       "      <td>0.0</td>\n",
       "    </tr>\n",
       "  </tbody>\n",
       "</table>\n",
       "</div>"
      ],
      "text/plain": [
       "Type       house  townhouse       unit\n",
       "Rooms                                 \n",
       "1       866866.0   592705.0   389929.0\n",
       "2      1017238.0   710158.0   610491.0\n",
       "3      1109233.0   984709.0   850596.0\n",
       "4      1462283.0  1217092.0  1037476.0\n",
       "5      1877327.0  1035000.0        0.0\n",
       "6      1869508.0        0.0   520000.0\n",
       "7      1920700.0        0.0        0.0\n",
       "8      1510286.0        0.0  2250000.0\n",
       "10      900000.0        0.0        0.0"
      ]
     },
     "execution_count": 148,
     "metadata": {},
     "output_type": "execute_result"
    }
   ],
   "source": [
    "melb_df.pivot_table(\n",
    "    values='Price',\n",
    "    index='Rooms',\n",
    "    columns='Type',\n",
    "    fill_value=0\n",
    ").round()"
   ]
  },
  {
   "attachments": {},
   "cell_type": "markdown",
   "metadata": {},
   "source": [
    "    Несложно понять, что метод pivot_table() имеет преимущество перед группировкой по нескольким критериям. Оно заключается в наличии специальных аргументов для строк и столбцов сводной таблицы, благодаря чему уменьшается вероятность запутаться при построении более сложных (многомерных) сводных таблиц, о которых мы поговорим далее."
   ]
  },
  {
   "attachments": {},
   "cell_type": "markdown",
   "metadata": {},
   "source": [
    "А теперь давайте проанализируем продажи в каждом из регионов в зависимости от того, будний был день или выходной. Для этого построим сводную таблицу, в которой строками будут являться названия регионов (Regionname), а в столбцах будет располагаться наш «признак-мигалка» выходного дня (Weekend), который равен 1, если день был выходным, и 0 — в противном случае. В качестве значений сводной таблицы возьмём количество продаж."
   ]
  },
  {
   "cell_type": "code",
   "execution_count": 149,
   "metadata": {},
   "outputs": [
    {
     "data": {
      "text/html": [
       "<div>\n",
       "<style scoped>\n",
       "    .dataframe tbody tr th:only-of-type {\n",
       "        vertical-align: middle;\n",
       "    }\n",
       "\n",
       "    .dataframe tbody tr th {\n",
       "        vertical-align: top;\n",
       "    }\n",
       "\n",
       "    .dataframe thead th {\n",
       "        text-align: right;\n",
       "    }\n",
       "</style>\n",
       "<table border=\"1\" class=\"dataframe\">\n",
       "  <thead>\n",
       "    <tr style=\"text-align: right;\">\n",
       "      <th>Weekend</th>\n",
       "      <th>0</th>\n",
       "      <th>1</th>\n",
       "    </tr>\n",
       "    <tr>\n",
       "      <th>Regionname</th>\n",
       "      <th></th>\n",
       "      <th></th>\n",
       "    </tr>\n",
       "  </thead>\n",
       "  <tbody>\n",
       "    <tr>\n",
       "      <th>Eastern Metropolitan</th>\n",
       "      <td>447</td>\n",
       "      <td>1024</td>\n",
       "    </tr>\n",
       "    <tr>\n",
       "      <th>Eastern Victoria</th>\n",
       "      <td>13</td>\n",
       "      <td>40</td>\n",
       "    </tr>\n",
       "    <tr>\n",
       "      <th>Northern Metropolitan</th>\n",
       "      <td>1258</td>\n",
       "      <td>2632</td>\n",
       "    </tr>\n",
       "    <tr>\n",
       "      <th>Northern Victoria</th>\n",
       "      <td>11</td>\n",
       "      <td>30</td>\n",
       "    </tr>\n",
       "    <tr>\n",
       "      <th>South-Eastern Metropolitan</th>\n",
       "      <td>123</td>\n",
       "      <td>327</td>\n",
       "    </tr>\n",
       "    <tr>\n",
       "      <th>Southern Metropolitan</th>\n",
       "      <td>1534</td>\n",
       "      <td>3161</td>\n",
       "    </tr>\n",
       "    <tr>\n",
       "      <th>Western Metropolitan</th>\n",
       "      <td>960</td>\n",
       "      <td>1988</td>\n",
       "    </tr>\n",
       "    <tr>\n",
       "      <th>Western Victoria</th>\n",
       "      <td>8</td>\n",
       "      <td>24</td>\n",
       "    </tr>\n",
       "  </tbody>\n",
       "</table>\n",
       "</div>"
      ],
      "text/plain": [
       "Weekend                        0     1\n",
       "Regionname                            \n",
       "Eastern Metropolitan         447  1024\n",
       "Eastern Victoria              13    40\n",
       "Northern Metropolitan       1258  2632\n",
       "Northern Victoria             11    30\n",
       "South-Eastern Metropolitan   123   327\n",
       "Southern Metropolitan       1534  3161\n",
       "Western Metropolitan         960  1988\n",
       "Western Victoria               8    24"
      ]
     },
     "execution_count": 149,
     "metadata": {},
     "output_type": "execute_result"
    }
   ],
   "source": [
    "melb_df.pivot_table(\n",
    "    values='Price',\n",
    "    index='Regionname',\n",
    "    columns='Weekend',\n",
    "    aggfunc='count'\n",
    ")"
   ]
  },
  {
   "attachments": {},
   "cell_type": "markdown",
   "metadata": {},
   "source": [
    "Из результирующей таблицы можно сделать два вывода:\n",
    "\n",
    "1. Число продаж резко возрастает в выходные вне зависимости от региона (приблизительно в 2-3 раза). То есть вероятность того, что дом продадут в выходные, гораздо выше вероятности, что его продадут в будний день.\n",
    "2. В отдалённых регионах (Victoria) коэффициент роста числа продаж выше, чем в центральных. Если в центральных регионах Metropolitan продажи по выходным в 2-2.5 раза выше, чем по будням, то в регионах Victoria число продаж в выходные вырастает примерно в 3 раза.\n",
    "Такой рост можно даже попытаться объяснить логически: в выходные дни у людей появляется свободное время, чтобы доехать до отдалённых пригородов с целью покупки дома."
   ]
  },
  {
   "attachments": {},
   "cell_type": "markdown",
   "metadata": {},
   "source": [
    "Разберём ещё один пример: найдём, как зависит средняя и медианная площадь участка (Landsize) от типа объекта (Type) и его региона (Regionname). Чтобы посмотреть несколько статистических параметров, нужно передать в аргумент aggfunc список из агрегирующих функций. Построим такую сводную таблицу, где пропущенные значения заменим на 0:"
   ]
  },
  {
   "cell_type": "code",
   "execution_count": 150,
   "metadata": {},
   "outputs": [
    {
     "data": {
      "text/html": [
       "<div>\n",
       "<style scoped>\n",
       "    .dataframe tbody tr th:only-of-type {\n",
       "        vertical-align: middle;\n",
       "    }\n",
       "\n",
       "    .dataframe tbody tr th {\n",
       "        vertical-align: top;\n",
       "    }\n",
       "\n",
       "    .dataframe thead tr th {\n",
       "        text-align: left;\n",
       "    }\n",
       "\n",
       "    .dataframe thead tr:last-of-type th {\n",
       "        text-align: right;\n",
       "    }\n",
       "</style>\n",
       "<table border=\"1\" class=\"dataframe\">\n",
       "  <thead>\n",
       "    <tr>\n",
       "      <th></th>\n",
       "      <th colspan=\"3\" halign=\"left\">median</th>\n",
       "      <th colspan=\"3\" halign=\"left\">mean</th>\n",
       "    </tr>\n",
       "    <tr>\n",
       "      <th>Type</th>\n",
       "      <th>house</th>\n",
       "      <th>townhouse</th>\n",
       "      <th>unit</th>\n",
       "      <th>house</th>\n",
       "      <th>townhouse</th>\n",
       "      <th>unit</th>\n",
       "    </tr>\n",
       "    <tr>\n",
       "      <th>Regionname</th>\n",
       "      <th></th>\n",
       "      <th></th>\n",
       "      <th></th>\n",
       "      <th></th>\n",
       "      <th></th>\n",
       "      <th></th>\n",
       "    </tr>\n",
       "  </thead>\n",
       "  <tbody>\n",
       "    <tr>\n",
       "      <th>Eastern Metropolitan</th>\n",
       "      <td>674.0</td>\n",
       "      <td>233.5</td>\n",
       "      <td>203</td>\n",
       "      <td>717.422847</td>\n",
       "      <td>269.440678</td>\n",
       "      <td>330.444444</td>\n",
       "    </tr>\n",
       "    <tr>\n",
       "      <th>Eastern Victoria</th>\n",
       "      <td>843.0</td>\n",
       "      <td>0.0</td>\n",
       "      <td>230</td>\n",
       "      <td>3108.960000</td>\n",
       "      <td>0.000000</td>\n",
       "      <td>295.333333</td>\n",
       "    </tr>\n",
       "    <tr>\n",
       "      <th>Northern Metropolitan</th>\n",
       "      <td>459.5</td>\n",
       "      <td>134.0</td>\n",
       "      <td>0</td>\n",
       "      <td>619.249092</td>\n",
       "      <td>317.325733</td>\n",
       "      <td>495.026538</td>\n",
       "    </tr>\n",
       "    <tr>\n",
       "      <th>Northern Victoria</th>\n",
       "      <td>724.0</td>\n",
       "      <td>0.0</td>\n",
       "      <td>0</td>\n",
       "      <td>3355.463415</td>\n",
       "      <td>0.000000</td>\n",
       "      <td>0.000000</td>\n",
       "    </tr>\n",
       "    <tr>\n",
       "      <th>South-Eastern Metropolitan</th>\n",
       "      <td>630.5</td>\n",
       "      <td>240.0</td>\n",
       "      <td>199</td>\n",
       "      <td>664.306701</td>\n",
       "      <td>212.160000</td>\n",
       "      <td>357.864865</td>\n",
       "    </tr>\n",
       "    <tr>\n",
       "      <th>Southern Metropolitan</th>\n",
       "      <td>586.0</td>\n",
       "      <td>246.0</td>\n",
       "      <td>0</td>\n",
       "      <td>569.643881</td>\n",
       "      <td>278.858824</td>\n",
       "      <td>466.380245</td>\n",
       "    </tr>\n",
       "    <tr>\n",
       "      <th>Western Metropolitan</th>\n",
       "      <td>531.0</td>\n",
       "      <td>198.0</td>\n",
       "      <td>62</td>\n",
       "      <td>507.883406</td>\n",
       "      <td>244.560669</td>\n",
       "      <td>557.637232</td>\n",
       "    </tr>\n",
       "    <tr>\n",
       "      <th>Western Victoria</th>\n",
       "      <td>599.5</td>\n",
       "      <td>0.0</td>\n",
       "      <td>0</td>\n",
       "      <td>655.500000</td>\n",
       "      <td>0.000000</td>\n",
       "      <td>0.000000</td>\n",
       "    </tr>\n",
       "  </tbody>\n",
       "</table>\n",
       "</div>"
      ],
      "text/plain": [
       "                           median                        mean              \\\n",
       "Type                        house townhouse unit        house   townhouse   \n",
       "Regionname                                                                  \n",
       "Eastern Metropolitan        674.0     233.5  203   717.422847  269.440678   \n",
       "Eastern Victoria            843.0       0.0  230  3108.960000    0.000000   \n",
       "Northern Metropolitan       459.5     134.0    0   619.249092  317.325733   \n",
       "Northern Victoria           724.0       0.0    0  3355.463415    0.000000   \n",
       "South-Eastern Metropolitan  630.5     240.0  199   664.306701  212.160000   \n",
       "Southern Metropolitan       586.0     246.0    0   569.643881  278.858824   \n",
       "Western Metropolitan        531.0     198.0   62   507.883406  244.560669   \n",
       "Western Victoria            599.5       0.0    0   655.500000    0.000000   \n",
       "\n",
       "                                        \n",
       "Type                              unit  \n",
       "Regionname                              \n",
       "Eastern Metropolitan        330.444444  \n",
       "Eastern Victoria            295.333333  \n",
       "Northern Metropolitan       495.026538  \n",
       "Northern Victoria             0.000000  \n",
       "South-Eastern Metropolitan  357.864865  \n",
       "Southern Metropolitan       466.380245  \n",
       "Western Metropolitan        557.637232  \n",
       "Western Victoria              0.000000  "
      ]
     },
     "execution_count": 150,
     "metadata": {},
     "output_type": "execute_result"
    }
   ],
   "source": [
    "melb_df.pivot_table(\n",
    "    values='Landsize',\n",
    "    index='Regionname',\n",
    "    columns='Type',\n",
    "    aggfunc=['median', 'mean'],\n",
    "    fill_value=0\n",
    ")"
   ]
  },
  {
   "attachments": {},
   "cell_type": "markdown",
   "metadata": {},
   "source": [
    "    Обратите внимание на добавление дополнительных индексов столбцов median и mean. Здесь медианное и среднее значения рассчитаны отдельно для каждой комбинации признаков."
   ]
  },
  {
   "attachments": {},
   "cell_type": "markdown",
   "metadata": {},
   "source": [
    "# Многомерные сводные таблицы"
   ]
  },
  {
   "attachments": {},
   "cell_type": "markdown",
   "metadata": {},
   "source": [
    "    Для того чтобы исследовать зависимость от большего числа признаков, можно передать список признаков в параметр index или параметр columns."
   ]
  },
  {
   "attachments": {},
   "cell_type": "markdown",
   "metadata": {},
   "source": [
    "Давайте построим таблицу, в которой по индексам будут располагаться признаки метода продажи (Method) и типа объекта (Type), по столбцам — наименование региона (Regionname), а на пересечении строк и столбцов будет стоять медианная цена объекта (Price):"
   ]
  },
  {
   "cell_type": "code",
   "execution_count": 151,
   "metadata": {},
   "outputs": [
    {
     "data": {
      "text/html": [
       "<div>\n",
       "<style scoped>\n",
       "    .dataframe tbody tr th:only-of-type {\n",
       "        vertical-align: middle;\n",
       "    }\n",
       "\n",
       "    .dataframe tbody tr th {\n",
       "        vertical-align: top;\n",
       "    }\n",
       "\n",
       "    .dataframe thead th {\n",
       "        text-align: right;\n",
       "    }\n",
       "</style>\n",
       "<table border=\"1\" class=\"dataframe\">\n",
       "  <thead>\n",
       "    <tr style=\"text-align: right;\">\n",
       "      <th></th>\n",
       "      <th>Regionname</th>\n",
       "      <th>Eastern Metropolitan</th>\n",
       "      <th>Eastern Victoria</th>\n",
       "      <th>Northern Metropolitan</th>\n",
       "      <th>Northern Victoria</th>\n",
       "      <th>South-Eastern Metropolitan</th>\n",
       "      <th>Southern Metropolitan</th>\n",
       "      <th>Western Metropolitan</th>\n",
       "      <th>Western Victoria</th>\n",
       "    </tr>\n",
       "    <tr>\n",
       "      <th>Method</th>\n",
       "      <th>Type</th>\n",
       "      <th></th>\n",
       "      <th></th>\n",
       "      <th></th>\n",
       "      <th></th>\n",
       "      <th></th>\n",
       "      <th></th>\n",
       "      <th></th>\n",
       "      <th></th>\n",
       "    </tr>\n",
       "  </thead>\n",
       "  <tbody>\n",
       "    <tr>\n",
       "      <th rowspan=\"3\" valign=\"top\">PI</th>\n",
       "      <th>house</th>\n",
       "      <td>1244000</td>\n",
       "      <td>780000</td>\n",
       "      <td>900000</td>\n",
       "      <td>500000</td>\n",
       "      <td>865000</td>\n",
       "      <td>1725000</td>\n",
       "      <td>870000</td>\n",
       "      <td>630000</td>\n",
       "    </tr>\n",
       "    <tr>\n",
       "      <th>townhouse</th>\n",
       "      <td>760000</td>\n",
       "      <td>0</td>\n",
       "      <td>632500</td>\n",
       "      <td>0</td>\n",
       "      <td>1190000</td>\n",
       "      <td>1055000</td>\n",
       "      <td>670000</td>\n",
       "      <td>0</td>\n",
       "    </tr>\n",
       "    <tr>\n",
       "      <th>unit</th>\n",
       "      <td>650000</td>\n",
       "      <td>0</td>\n",
       "      <td>410000</td>\n",
       "      <td>0</td>\n",
       "      <td>525000</td>\n",
       "      <td>571250</td>\n",
       "      <td>360000</td>\n",
       "      <td>0</td>\n",
       "    </tr>\n",
       "    <tr>\n",
       "      <th rowspan=\"3\" valign=\"top\">S</th>\n",
       "      <th>house</th>\n",
       "      <td>1127000</td>\n",
       "      <td>675000</td>\n",
       "      <td>920000</td>\n",
       "      <td>555000</td>\n",
       "      <td>883300</td>\n",
       "      <td>1611000</td>\n",
       "      <td>870000</td>\n",
       "      <td>397500</td>\n",
       "    </tr>\n",
       "    <tr>\n",
       "      <th>townhouse</th>\n",
       "      <td>828000</td>\n",
       "      <td>0</td>\n",
       "      <td>750000</td>\n",
       "      <td>0</td>\n",
       "      <td>875000</td>\n",
       "      <td>1135000</td>\n",
       "      <td>729000</td>\n",
       "      <td>0</td>\n",
       "    </tr>\n",
       "    <tr>\n",
       "      <th>unit</th>\n",
       "      <td>645750</td>\n",
       "      <td>492000</td>\n",
       "      <td>525500</td>\n",
       "      <td>0</td>\n",
       "      <td>606000</td>\n",
       "      <td>655000</td>\n",
       "      <td>489000</td>\n",
       "      <td>0</td>\n",
       "    </tr>\n",
       "    <tr>\n",
       "      <th rowspan=\"3\" valign=\"top\">SA</th>\n",
       "      <th>house</th>\n",
       "      <td>932500</td>\n",
       "      <td>950000</td>\n",
       "      <td>817500</td>\n",
       "      <td>540000</td>\n",
       "      <td>880000</td>\n",
       "      <td>1390000</td>\n",
       "      <td>772500</td>\n",
       "      <td>0</td>\n",
       "    </tr>\n",
       "    <tr>\n",
       "      <th>townhouse</th>\n",
       "      <td>807500</td>\n",
       "      <td>0</td>\n",
       "      <td>425000</td>\n",
       "      <td>0</td>\n",
       "      <td>0</td>\n",
       "      <td>1141000</td>\n",
       "      <td>467500</td>\n",
       "      <td>0</td>\n",
       "    </tr>\n",
       "    <tr>\n",
       "      <th>unit</th>\n",
       "      <td>0</td>\n",
       "      <td>0</td>\n",
       "      <td>616000</td>\n",
       "      <td>0</td>\n",
       "      <td>0</td>\n",
       "      <td>580000</td>\n",
       "      <td>571000</td>\n",
       "      <td>0</td>\n",
       "    </tr>\n",
       "    <tr>\n",
       "      <th rowspan=\"3\" valign=\"top\">SP</th>\n",
       "      <th>house</th>\n",
       "      <td>1050000</td>\n",
       "      <td>672500</td>\n",
       "      <td>900000</td>\n",
       "      <td>521000</td>\n",
       "      <td>770000</td>\n",
       "      <td>1521750</td>\n",
       "      <td>865000</td>\n",
       "      <td>360000</td>\n",
       "    </tr>\n",
       "    <tr>\n",
       "      <th>townhouse</th>\n",
       "      <td>910000</td>\n",
       "      <td>0</td>\n",
       "      <td>690000</td>\n",
       "      <td>0</td>\n",
       "      <td>800000</td>\n",
       "      <td>1162500</td>\n",
       "      <td>702500</td>\n",
       "      <td>0</td>\n",
       "    </tr>\n",
       "    <tr>\n",
       "      <th>unit</th>\n",
       "      <td>515000</td>\n",
       "      <td>400000</td>\n",
       "      <td>470000</td>\n",
       "      <td>0</td>\n",
       "      <td>601000</td>\n",
       "      <td>550000</td>\n",
       "      <td>460000</td>\n",
       "      <td>0</td>\n",
       "    </tr>\n",
       "    <tr>\n",
       "      <th rowspan=\"3\" valign=\"top\">VB</th>\n",
       "      <th>house</th>\n",
       "      <td>1100000</td>\n",
       "      <td>712500</td>\n",
       "      <td>1050000</td>\n",
       "      <td>690000</td>\n",
       "      <td>850000</td>\n",
       "      <td>1800000</td>\n",
       "      <td>880000</td>\n",
       "      <td>0</td>\n",
       "    </tr>\n",
       "    <tr>\n",
       "      <th>townhouse</th>\n",
       "      <td>892500</td>\n",
       "      <td>0</td>\n",
       "      <td>640000</td>\n",
       "      <td>0</td>\n",
       "      <td>0</td>\n",
       "      <td>1250000</td>\n",
       "      <td>689500</td>\n",
       "      <td>0</td>\n",
       "    </tr>\n",
       "    <tr>\n",
       "      <th>unit</th>\n",
       "      <td>500000</td>\n",
       "      <td>0</td>\n",
       "      <td>450000</td>\n",
       "      <td>0</td>\n",
       "      <td>700000</td>\n",
       "      <td>500000</td>\n",
       "      <td>420000</td>\n",
       "      <td>0</td>\n",
       "    </tr>\n",
       "  </tbody>\n",
       "</table>\n",
       "</div>"
      ],
      "text/plain": [
       "Regionname        Eastern Metropolitan  Eastern Victoria  \\\n",
       "Method Type                                                \n",
       "PI     house                   1244000            780000   \n",
       "       townhouse                760000                 0   \n",
       "       unit                     650000                 0   \n",
       "S      house                   1127000            675000   \n",
       "       townhouse                828000                 0   \n",
       "       unit                     645750            492000   \n",
       "SA     house                    932500            950000   \n",
       "       townhouse                807500                 0   \n",
       "       unit                          0                 0   \n",
       "SP     house                   1050000            672500   \n",
       "       townhouse                910000                 0   \n",
       "       unit                     515000            400000   \n",
       "VB     house                   1100000            712500   \n",
       "       townhouse                892500                 0   \n",
       "       unit                     500000                 0   \n",
       "\n",
       "Regionname        Northern Metropolitan  Northern Victoria  \\\n",
       "Method Type                                                  \n",
       "PI     house                     900000             500000   \n",
       "       townhouse                 632500                  0   \n",
       "       unit                      410000                  0   \n",
       "S      house                     920000             555000   \n",
       "       townhouse                 750000                  0   \n",
       "       unit                      525500                  0   \n",
       "SA     house                     817500             540000   \n",
       "       townhouse                 425000                  0   \n",
       "       unit                      616000                  0   \n",
       "SP     house                     900000             521000   \n",
       "       townhouse                 690000                  0   \n",
       "       unit                      470000                  0   \n",
       "VB     house                    1050000             690000   \n",
       "       townhouse                 640000                  0   \n",
       "       unit                      450000                  0   \n",
       "\n",
       "Regionname        South-Eastern Metropolitan  Southern Metropolitan  \\\n",
       "Method Type                                                           \n",
       "PI     house                          865000                1725000   \n",
       "       townhouse                     1190000                1055000   \n",
       "       unit                           525000                 571250   \n",
       "S      house                          883300                1611000   \n",
       "       townhouse                      875000                1135000   \n",
       "       unit                           606000                 655000   \n",
       "SA     house                          880000                1390000   \n",
       "       townhouse                           0                1141000   \n",
       "       unit                                0                 580000   \n",
       "SP     house                          770000                1521750   \n",
       "       townhouse                      800000                1162500   \n",
       "       unit                           601000                 550000   \n",
       "VB     house                          850000                1800000   \n",
       "       townhouse                           0                1250000   \n",
       "       unit                           700000                 500000   \n",
       "\n",
       "Regionname        Western Metropolitan  Western Victoria  \n",
       "Method Type                                               \n",
       "PI     house                    870000            630000  \n",
       "       townhouse                670000                 0  \n",
       "       unit                     360000                 0  \n",
       "S      house                    870000            397500  \n",
       "       townhouse                729000                 0  \n",
       "       unit                     489000                 0  \n",
       "SA     house                    772500                 0  \n",
       "       townhouse                467500                 0  \n",
       "       unit                     571000                 0  \n",
       "SP     house                    865000            360000  \n",
       "       townhouse                702500                 0  \n",
       "       unit                     460000                 0  \n",
       "VB     house                    880000                 0  \n",
       "       townhouse                689500                 0  \n",
       "       unit                     420000                 0  "
      ]
     },
     "execution_count": 151,
     "metadata": {},
     "output_type": "execute_result"
    }
   ],
   "source": [
    "melb_df.pivot_table(\n",
    "    values='Price',\n",
    "    index=['Method','Type'],\n",
    "    columns='Regionname',\n",
    "    aggfunc='median',\n",
    "    fill_value=0\n",
    ")"
   ]
  },
  {
   "attachments": {},
   "cell_type": "markdown",
   "metadata": {},
   "source": [
    "# Доступ к данным в сводной таблице"
   ]
  },
  {
   "attachments": {},
   "cell_type": "markdown",
   "metadata": {},
   "source": [
    "Запишем сводную таблицу, которую мы создавали ранее в переменную pivot:"
   ]
  },
  {
   "cell_type": "code",
   "execution_count": 152,
   "metadata": {},
   "outputs": [],
   "source": [
    "pivot = melb_df.pivot_table(\n",
    "    values='Landsize',\n",
    "    index='Regionname',\n",
    "    columns='Type',\n",
    "    aggfunc=['median', 'mean'],\n",
    "    fill_value=0\n",
    ")"
   ]
  },
  {
   "attachments": {},
   "cell_type": "markdown",
   "metadata": {},
   "source": [
    "Выведем её столбцы с помощью атрибута columns:"
   ]
  },
  {
   "cell_type": "code",
   "execution_count": 153,
   "metadata": {},
   "outputs": [
    {
     "data": {
      "text/plain": [
       "MultiIndex([('median',     'house'),\n",
       "            ('median', 'townhouse'),\n",
       "            ('median',      'unit'),\n",
       "            (  'mean',     'house'),\n",
       "            (  'mean', 'townhouse'),\n",
       "            (  'mean',      'unit')],\n",
       "           names=[None, 'Type'])"
      ]
     },
     "execution_count": 153,
     "metadata": {},
     "output_type": "execute_result"
    }
   ],
   "source": [
    "pivot.columns"
   ]
  },
  {
   "attachments": {},
   "cell_type": "markdown",
   "metadata": {},
   "source": [
    "    В результате мы получаем объект MultiIndex. Этот объект хранит в себе шесть комбинаций пар столбцов (два статистических параметра и три типа здания), то есть есть шесть возможных вариантов обращения к столбцам таблицы.\n",
    "\n",
    "    Мультииндексы раскрываются подобно вложенным словарям — по очереди, как матрёшка. Чтобы получить доступ к определённому столбцу, вы должны сначала обратиться к столбцу, который находится уровнем выше."
   ]
  },
  {
   "attachments": {},
   "cell_type": "markdown",
   "metadata": {},
   "source": [
    "Так, из таблицы pivot мы можем получить средние значения площадей участков для типа здания unit, просто последовательно обратившись по имени столбцов:"
   ]
  },
  {
   "cell_type": "code",
   "execution_count": 154,
   "metadata": {},
   "outputs": [
    {
     "data": {
      "text/plain": [
       "Regionname\n",
       "Eastern Metropolitan          330.444444\n",
       "Eastern Victoria              295.333333\n",
       "Northern Metropolitan         495.026538\n",
       "Northern Victoria               0.000000\n",
       "South-Eastern Metropolitan    357.864865\n",
       "Southern Metropolitan         466.380245\n",
       "Western Metropolitan          557.637232\n",
       "Western Victoria                0.000000\n",
       "Name: unit, dtype: float64"
      ]
     },
     "metadata": {},
     "output_type": "display_data"
    }
   ],
   "source": [
    "display(pivot['mean']['unit'])"
   ]
  },
  {
   "attachments": {},
   "cell_type": "markdown",
   "metadata": {},
   "source": [
    "Аналогично производится и фильтрация данных. Например, если нам нужны регионы, в которых средняя площадь здания для домов типа house меньше их медианной площади, то мы можем найти их следующим образом:"
   ]
  },
  {
   "cell_type": "code",
   "execution_count": 155,
   "metadata": {},
   "outputs": [
    {
     "data": {
      "text/html": [
       "<div>\n",
       "<style scoped>\n",
       "    .dataframe tbody tr th:only-of-type {\n",
       "        vertical-align: middle;\n",
       "    }\n",
       "\n",
       "    .dataframe tbody tr th {\n",
       "        vertical-align: top;\n",
       "    }\n",
       "\n",
       "    .dataframe thead tr th {\n",
       "        text-align: left;\n",
       "    }\n",
       "\n",
       "    .dataframe thead tr:last-of-type th {\n",
       "        text-align: right;\n",
       "    }\n",
       "</style>\n",
       "<table border=\"1\" class=\"dataframe\">\n",
       "  <thead>\n",
       "    <tr>\n",
       "      <th></th>\n",
       "      <th colspan=\"3\" halign=\"left\">median</th>\n",
       "      <th colspan=\"3\" halign=\"left\">mean</th>\n",
       "    </tr>\n",
       "    <tr>\n",
       "      <th>Type</th>\n",
       "      <th>house</th>\n",
       "      <th>townhouse</th>\n",
       "      <th>unit</th>\n",
       "      <th>house</th>\n",
       "      <th>townhouse</th>\n",
       "      <th>unit</th>\n",
       "    </tr>\n",
       "    <tr>\n",
       "      <th>Regionname</th>\n",
       "      <th></th>\n",
       "      <th></th>\n",
       "      <th></th>\n",
       "      <th></th>\n",
       "      <th></th>\n",
       "      <th></th>\n",
       "    </tr>\n",
       "  </thead>\n",
       "  <tbody>\n",
       "    <tr>\n",
       "      <th>Southern Metropolitan</th>\n",
       "      <td>586.0</td>\n",
       "      <td>246.0</td>\n",
       "      <td>0</td>\n",
       "      <td>569.643881</td>\n",
       "      <td>278.858824</td>\n",
       "      <td>466.380245</td>\n",
       "    </tr>\n",
       "    <tr>\n",
       "      <th>Western Metropolitan</th>\n",
       "      <td>531.0</td>\n",
       "      <td>198.0</td>\n",
       "      <td>62</td>\n",
       "      <td>507.883406</td>\n",
       "      <td>244.560669</td>\n",
       "      <td>557.637232</td>\n",
       "    </tr>\n",
       "  </tbody>\n",
       "</table>\n",
       "</div>"
      ],
      "text/plain": [
       "                      median                       mean              \\\n",
       "Type                   house townhouse unit       house   townhouse   \n",
       "Regionname                                                            \n",
       "Southern Metropolitan  586.0     246.0    0  569.643881  278.858824   \n",
       "Western Metropolitan   531.0     198.0   62  507.883406  244.560669   \n",
       "\n",
       "                                   \n",
       "Type                         unit  \n",
       "Regionname                         \n",
       "Southern Metropolitan  466.380245  \n",
       "Western Metropolitan   557.637232  "
      ]
     },
     "metadata": {},
     "output_type": "display_data"
    }
   ],
   "source": [
    "mask = pivot['mean']['house'] < pivot['median']['house']\n",
    "filtered_pivot = pivot[mask]\n",
    "display(filtered_pivot)"
   ]
  },
  {
   "attachments": {},
   "cell_type": "markdown",
   "metadata": {},
   "source": [
    "Чтобы получить индексы отфильтрованной таблицы, можно воспользоваться атрибутом index и обернуть результат в список:"
   ]
  },
  {
   "cell_type": "code",
   "execution_count": 156,
   "metadata": {},
   "outputs": [
    {
     "name": "stdout",
     "output_type": "stream",
     "text": [
      "['Southern Metropolitan', 'Western Metropolitan']\n"
     ]
    }
   ],
   "source": [
    "print(list(filtered_pivot.index))\n",
    "# ['Southern Metropolitan', 'Western Metropolitan']"
   ]
  },
  {
   "attachments": {},
   "cell_type": "markdown",
   "metadata": {},
   "source": [
    "    Примечание. На самом деле мультииндексные таблицы можно создавать и вручную. Давайте посмотрим на синтаксис данной конструкции:"
   ]
  },
  {
   "cell_type": "code",
   "execution_count": 157,
   "metadata": {},
   "outputs": [
    {
     "data": {
      "text/plain": [
       "white  up       0.934448\n",
       "       down     0.151886\n",
       "       right    0.184162\n",
       "blue   up       0.487741\n",
       "       down     0.362046\n",
       "red    up       0.618433\n",
       "       down     0.149664\n",
       "       left     0.912518\n",
       "dtype: float64"
      ]
     },
     "metadata": {},
     "output_type": "display_data"
    }
   ],
   "source": [
    "import numpy as np\n",
    "\n",
    "mser = pd.Series(\n",
    "    np.random.rand(8),\n",
    "\tindex=[['white','white','white','blue','blue','red','red','red'], \n",
    "           ['up','down','right','up','down','up','down','left']])\n",
    "display(mser)"
   ]
  },
  {
   "attachments": {},
   "cell_type": "markdown",
   "metadata": {},
   "source": [
    "    В данном примере мы создаём объект Series со вложенными индексами. Мы передаём в качестве индексов Series вложенный список, где первый список задаёт внешний уровень вложенности, а второй список — внутренний уровень вложенности. Значения Series — случайные числа от 0 до 1, сгенерированные функцией np.random.rand() (ваши значения могут отличаться).\n",
    "\n",
    "    Если посмотреть на индексы Series, можно увидеть, что они являются мультииндексами:"
   ]
  },
  {
   "cell_type": "code",
   "execution_count": 158,
   "metadata": {},
   "outputs": [
    {
     "name": "stdout",
     "output_type": "stream",
     "text": [
      "MultiIndex([('white',    'up'),\n",
      "            ('white',  'down'),\n",
      "            ('white', 'right'),\n",
      "            ( 'blue',    'up'),\n",
      "            ( 'blue',  'down'),\n",
      "            (  'red',    'up'),\n",
      "            (  'red',  'down'),\n",
      "            (  'red',  'left')],\n",
      "           )\n"
     ]
    }
   ],
   "source": [
    "print(mser.index)"
   ]
  },
  {
   "attachments": {},
   "cell_type": "markdown",
   "metadata": {},
   "source": [
    "    Аналогично создаются DataFrame со вложенными признаками (вложенными столбцами) — для этого вложенный список передаётся в параметр columns при инициализации таблицы:"
   ]
  },
  {
   "cell_type": "code",
   "execution_count": 159,
   "metadata": {},
   "outputs": [
    {
     "data": {
      "text/html": [
       "<div>\n",
       "<style scoped>\n",
       "    .dataframe tbody tr th:only-of-type {\n",
       "        vertical-align: middle;\n",
       "    }\n",
       "\n",
       "    .dataframe tbody tr th {\n",
       "        vertical-align: top;\n",
       "    }\n",
       "\n",
       "    .dataframe thead tr th {\n",
       "        text-align: left;\n",
       "    }\n",
       "</style>\n",
       "<table border=\"1\" class=\"dataframe\">\n",
       "  <thead>\n",
       "    <tr>\n",
       "      <th></th>\n",
       "      <th></th>\n",
       "      <th colspan=\"2\" halign=\"left\">pen</th>\n",
       "      <th colspan=\"2\" halign=\"left\">paper</th>\n",
       "    </tr>\n",
       "    <tr>\n",
       "      <th></th>\n",
       "      <th></th>\n",
       "      <th>1</th>\n",
       "      <th>2</th>\n",
       "      <th>1</th>\n",
       "      <th>2</th>\n",
       "    </tr>\n",
       "  </thead>\n",
       "  <tbody>\n",
       "    <tr>\n",
       "      <th rowspan=\"2\" valign=\"top\">white</th>\n",
       "      <th>up</th>\n",
       "      <td>0.452075</td>\n",
       "      <td>1.620598</td>\n",
       "      <td>0.380266</td>\n",
       "      <td>-0.596976</td>\n",
       "    </tr>\n",
       "    <tr>\n",
       "      <th>down</th>\n",
       "      <td>0.182116</td>\n",
       "      <td>0.807475</td>\n",
       "      <td>0.656026</td>\n",
       "      <td>1.329022</td>\n",
       "    </tr>\n",
       "    <tr>\n",
       "      <th rowspan=\"2\" valign=\"top\">red</th>\n",
       "      <th>up</th>\n",
       "      <td>-0.630384</td>\n",
       "      <td>0.380090</td>\n",
       "      <td>-0.539577</td>\n",
       "      <td>-1.752696</td>\n",
       "    </tr>\n",
       "    <tr>\n",
       "      <th>down</th>\n",
       "      <td>-1.538465</td>\n",
       "      <td>-0.967556</td>\n",
       "      <td>0.147987</td>\n",
       "      <td>-0.490056</td>\n",
       "    </tr>\n",
       "  </tbody>\n",
       "</table>\n",
       "</div>"
      ],
      "text/plain": [
       "                 pen               paper          \n",
       "                   1         2         1         2\n",
       "white up    0.452075  1.620598  0.380266 -0.596976\n",
       "      down  0.182116  0.807475  0.656026  1.329022\n",
       "red   up   -0.630384  0.380090 -0.539577 -1.752696\n",
       "      down -1.538465 -0.967556  0.147987 -0.490056"
      ]
     },
     "metadata": {},
     "output_type": "display_data"
    }
   ],
   "source": [
    "mframe = pd.DataFrame(\n",
    "    np.random.randn(16).reshape(4,4),\n",
    "    index=[['white','white','red','red'], ['up','down','up','down']],\n",
    "    columns=[['pen','pen','paper','paper'],[1,2,1,2]]\n",
    ")\n",
    "display(mframe)"
   ]
  },
  {
   "attachments": {},
   "cell_type": "markdown",
   "metadata": {},
   "source": [
    "# Задание 4.2 "
   ]
  },
  {
   "attachments": {},
   "cell_type": "markdown",
   "metadata": {},
   "source": [
    "Составьте сводную таблицу, которая показывает зависимость медианной площади (BuildingArea) здания от типа объекта недвижимости (Type) и количества жилых комнат в доме (Rooms). Для какой комбинации признаков площадь здания наибольшая?\n",
    "\n",
    "В качестве ответа запишите эту комбинацию (тип здания, число комнат) через запятую, без пробелов."
   ]
  },
  {
   "cell_type": "code",
   "execution_count": 160,
   "metadata": {},
   "outputs": [],
   "source": [
    "pivot_area_by_type_and_rooms = melb_df.pivot_table(\n",
    "    values='BuildingArea',\n",
    "    index='Rooms',\n",
    "    columns='Type',\n",
    "    aggfunc=['median'],\n",
    "    fill_value=0\n",
    ")"
   ]
  },
  {
   "cell_type": "code",
   "execution_count": 166,
   "metadata": {},
   "outputs": [
    {
     "name": "stdout",
     "output_type": "stream",
     "text": [
      "house,7\n"
     ]
    }
   ],
   "source": [
    "a = pivot_area_by_type_and_rooms.max().sort_values(ascending=False).index[0][1]\n",
    "b = pivot_area_by_type_and_rooms['median'][a].idxmax()\n",
    "print(a+','+str(b))"
   ]
  },
  {
   "attachments": {},
   "cell_type": "markdown",
   "metadata": {},
   "source": [
    "# Задание 4.3 "
   ]
  },
  {
   "attachments": {},
   "cell_type": "markdown",
   "metadata": {},
   "source": [
    "Составьте сводную таблицу, которая показывает зависимость медианной цены объекта недвижимости (Price) от риелторского агентства (SellerG) и типа здания (Type).\n",
    "\n",
    "Во вновь созданной таблице найдите агентство, у которого медианная цена для зданий типа unit максимальна. В качестве ответа запишите название этого агентства."
   ]
  },
  {
   "cell_type": "code",
   "execution_count": 167,
   "metadata": {},
   "outputs": [],
   "source": [
    "pivot_price_by_type_and_seller = melb_df.pivot_table(\n",
    "    values='Price',\n",
    "    index='SellerG',\n",
    "    columns='Type',\n",
    "    aggfunc=['median'],\n",
    "    fill_value=0\n",
    ")"
   ]
  },
  {
   "cell_type": "code",
   "execution_count": 170,
   "metadata": {},
   "outputs": [
    {
     "data": {
      "text/plain": [
       "'Nick'"
      ]
     },
     "execution_count": 170,
     "metadata": {},
     "output_type": "execute_result"
    }
   ],
   "source": [
    "pivot_price_by_type_and_seller['median']['unit'].idxmax()"
   ]
  }
 ],
 "metadata": {
  "kernelspec": {
   "display_name": "Python 3",
   "language": "python",
   "name": "python3"
  },
  "language_info": {
   "codemirror_mode": {
    "name": "ipython",
    "version": 3
   },
   "file_extension": ".py",
   "mimetype": "text/x-python",
   "name": "python",
   "nbconvert_exporter": "python",
   "pygments_lexer": "ipython3",
   "version": "3.10.6"
  },
  "orig_nbformat": 4,
  "vscode": {
   "interpreter": {
    "hash": "916dbcbb3f70747c44a77c7bcd40155683ae19c65e1c03b4aa3499c5328201f1"
   }
  }
 },
 "nbformat": 4,
 "nbformat_minor": 2
}
