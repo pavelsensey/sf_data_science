{
 "cells": [
  {
   "cell_type": "code",
   "execution_count": 1,
   "metadata": {},
   "outputs": [],
   "source": [
    "import pandas as pd\n",
    "melb_df = pd.read_csv('data/melb_data_fe.csv')\n",
    "melb_df.head()\n",
    "melb_df['Date'] = pd.to_datetime(melb_df['Date'])\n",
    "cols_to_exclude = ['Date', 'Rooms', 'Bedroom', 'Bathroom', 'Car']\n",
    "max_unique_count = 150\n",
    "for col in melb_df.columns:\n",
    "    if melb_df[col].nunique() < max_unique_count and col not in cols_to_exclude:\n",
    "        melb_df[col] = melb_df[col].astype('category')"
   ]
  },
  {
   "attachments": {},
   "cell_type": "markdown",
   "metadata": {},
   "source": [
    "     ✍ Одна из основных задач анализа данных — это группировка данных и сравнение показателей в группах. Например, нам необходимо сравнить средний уровень заработной платы в зависимости от пола/уровня образования. Или же мы хотим проследить, какая группа клиентов приносит нам наибольший доход, чтобы направить своё внимание на эту группу."
   ]
  },
  {
   "attachments": {},
   "cell_type": "markdown",
   "metadata": {},
   "source": [
    "    В некоторых случаях группировки может быть достаточно, чтобы ответить на вопросы бизнеса. В других случаях это может стать первым шагом в более сложном анализе. Так, например, благодаря группировке мы можем выявлять признаки, которые не несут статистической значимости, или признаки, которые вносят наибольший вклад. "
   ]
  },
  {
   "attachments": {},
   "cell_type": "markdown",
   "metadata": {},
   "source": [
    "# Метод groupby()"
   ]
  },
  {
   "attachments": {},
   "cell_type": "markdown",
   "metadata": {},
   "source": [
    "\n",
    "\n",
    " - by — имя или список имён столбцов, по которым производится группировка.\n",
    " - axis — ось, по которой производится группировка (0 — строки, 1 — столбцы). По умолчанию группировка производится по строкам.\n",
    " - as_index — добавляется ли дополнительный индекс к таблице. По умолчанию установлен на True.\n",
    "\n"
   ]
  },
  {
   "attachments": {},
   "cell_type": "markdown",
   "metadata": {},
   "source": [
    "Метод groupby() возвращает объект DataFrameGroupBy, который хранит в себе информацию о том, какие строки относятся к определённой группе, и сам по себе не представляет для нас интереса. "
   ]
  },
  {
   "attachments": {},
   "cell_type": "markdown",
   "metadata": {},
   "source": [
    "    Однако к этому объекту можно применять уже знакомые нам агрегирующие методы (mean, median, sum и т. д.), чтобы рассчитывать показатели внутри каждой группы."
   ]
  },
  {
   "attachments": {},
   "cell_type": "markdown",
   "metadata": {},
   "source": [
    "## Группировка данных по одному критерию с одной агрегацией"
   ]
  },
  {
   "attachments": {},
   "cell_type": "markdown",
   "metadata": {},
   "source": [
    "Применим агрегирующую функцию среднего к результату работы groupby(). В качестве столбца для группировки возьмём столбец типа объекта недвижимости (Type):"
   ]
  },
  {
   "cell_type": "code",
   "execution_count": 2,
   "metadata": {},
   "outputs": [
    {
     "name": "stderr",
     "output_type": "stream",
     "text": [
      "/tmp/ipykernel_13459/1287844458.py:1: FutureWarning: The default value of numeric_only in DataFrameGroupBy.mean is deprecated. In a future version, numeric_only will default to False. Either specify numeric_only or select only columns which should be valid for the function.\n",
      "  melb_df.groupby(by='Type').mean()\n"
     ]
    },
    {
     "data": {
      "text/html": [
       "<div>\n",
       "<style scoped>\n",
       "    .dataframe tbody tr th:only-of-type {\n",
       "        vertical-align: middle;\n",
       "    }\n",
       "\n",
       "    .dataframe tbody tr th {\n",
       "        vertical-align: top;\n",
       "    }\n",
       "\n",
       "    .dataframe thead th {\n",
       "        text-align: right;\n",
       "    }\n",
       "</style>\n",
       "<table border=\"1\" class=\"dataframe\">\n",
       "  <thead>\n",
       "    <tr style=\"text-align: right;\">\n",
       "      <th></th>\n",
       "      <th>Rooms</th>\n",
       "      <th>Price</th>\n",
       "      <th>Distance</th>\n",
       "      <th>Postcode</th>\n",
       "      <th>Bedroom</th>\n",
       "      <th>Bathroom</th>\n",
       "      <th>Car</th>\n",
       "      <th>Landsize</th>\n",
       "      <th>BuildingArea</th>\n",
       "      <th>Lattitude</th>\n",
       "      <th>Longtitude</th>\n",
       "      <th>Propertycount</th>\n",
       "      <th>MeanRoomsSquare</th>\n",
       "      <th>AreaRatio</th>\n",
       "      <th>AgeBuilding</th>\n",
       "    </tr>\n",
       "    <tr>\n",
       "      <th>Type</th>\n",
       "      <th></th>\n",
       "      <th></th>\n",
       "      <th></th>\n",
       "      <th></th>\n",
       "      <th></th>\n",
       "      <th></th>\n",
       "      <th></th>\n",
       "      <th></th>\n",
       "      <th></th>\n",
       "      <th></th>\n",
       "      <th></th>\n",
       "      <th></th>\n",
       "      <th></th>\n",
       "      <th></th>\n",
       "      <th></th>\n",
       "    </tr>\n",
       "  </thead>\n",
       "  <tbody>\n",
       "    <tr>\n",
       "      <th>house</th>\n",
       "      <td>3.260874</td>\n",
       "      <td>1.242665e+06</td>\n",
       "      <td>10.979479</td>\n",
       "      <td>3104.080643</td>\n",
       "      <td>3.229336</td>\n",
       "      <td>1.613822</td>\n",
       "      <td>1.772674</td>\n",
       "      <td>617.181924</td>\n",
       "      <td>152.162553</td>\n",
       "      <td>-37.803795</td>\n",
       "      <td>144.994700</td>\n",
       "      <td>7259.025505</td>\n",
       "      <td>18.996731</td>\n",
       "      <td>-0.490031</td>\n",
       "      <td>55.669700</td>\n",
       "    </tr>\n",
       "    <tr>\n",
       "      <th>townhouse</th>\n",
       "      <td>2.837522</td>\n",
       "      <td>9.337351e+05</td>\n",
       "      <td>9.851346</td>\n",
       "      <td>3100.777379</td>\n",
       "      <td>2.814183</td>\n",
       "      <td>1.809695</td>\n",
       "      <td>1.555655</td>\n",
       "      <td>279.606822</td>\n",
       "      <td>134.649710</td>\n",
       "      <td>-37.815782</td>\n",
       "      <td>144.996489</td>\n",
       "      <td>7094.459605</td>\n",
       "      <td>18.569847</td>\n",
       "      <td>-0.094916</td>\n",
       "      <td>26.690305</td>\n",
       "    </tr>\n",
       "    <tr>\n",
       "      <th>unit</th>\n",
       "      <td>1.963871</td>\n",
       "      <td>6.051275e+05</td>\n",
       "      <td>7.607391</td>\n",
       "      <td>3110.797481</td>\n",
       "      <td>1.966523</td>\n",
       "      <td>1.183295</td>\n",
       "      <td>1.128936</td>\n",
       "      <td>477.314219</td>\n",
       "      <td>102.235863</td>\n",
       "      <td>-37.823710</td>\n",
       "      <td>144.996363</td>\n",
       "      <td>8199.280080</td>\n",
       "      <td>21.068242</td>\n",
       "      <td>0.319883</td>\n",
       "      <td>39.703016</td>\n",
       "    </tr>\n",
       "  </tbody>\n",
       "</table>\n",
       "</div>"
      ],
      "text/plain": [
       "              Rooms         Price   Distance     Postcode   Bedroom  Bathroom  \\\n",
       "Type                                                                            \n",
       "house      3.260874  1.242665e+06  10.979479  3104.080643  3.229336  1.613822   \n",
       "townhouse  2.837522  9.337351e+05   9.851346  3100.777379  2.814183  1.809695   \n",
       "unit       1.963871  6.051275e+05   7.607391  3110.797481  1.966523  1.183295   \n",
       "\n",
       "                Car    Landsize  BuildingArea  Lattitude  Longtitude  \\\n",
       "Type                                                                   \n",
       "house      1.772674  617.181924    152.162553 -37.803795  144.994700   \n",
       "townhouse  1.555655  279.606822    134.649710 -37.815782  144.996489   \n",
       "unit       1.128936  477.314219    102.235863 -37.823710  144.996363   \n",
       "\n",
       "           Propertycount  MeanRoomsSquare  AreaRatio  AgeBuilding  \n",
       "Type                                                               \n",
       "house        7259.025505        18.996731  -0.490031    55.669700  \n",
       "townhouse    7094.459605        18.569847  -0.094916    26.690305  \n",
       "unit         8199.280080        21.068242   0.319883    39.703016  "
      ]
     },
     "execution_count": 2,
     "metadata": {},
     "output_type": "execute_result"
    }
   ],
   "source": [
    "melb_df.groupby(by='Type').mean()"
   ]
  },
  {
   "attachments": {},
   "cell_type": "markdown",
   "metadata": {},
   "source": [
    "    Обратите внимание на структуру получившейся таблицы: теперь на месте индексов стоят значения типа объекта недвижимости Type (house, townhouse, unit)."
   ]
  },
  {
   "attachments": {},
   "cell_type": "markdown",
   "metadata": {},
   "source": [
    "    Примечание. Если мы хотим видеть тип объекта в качестве отдельного столбца таблицы, мы можем выставить параметр as_index на False:"
   ]
  },
  {
   "cell_type": "code",
   "execution_count": 3,
   "metadata": {},
   "outputs": [
    {
     "name": "stderr",
     "output_type": "stream",
     "text": [
      "/tmp/ipykernel_13459/3966658611.py:1: FutureWarning: The default value of numeric_only in DataFrameGroupBy.mean is deprecated. In a future version, numeric_only will default to False. Either specify numeric_only or select only columns which should be valid for the function.\n",
      "  melb_df.groupby(by='Type', as_index=False).mean()\n"
     ]
    },
    {
     "data": {
      "text/html": [
       "<div>\n",
       "<style scoped>\n",
       "    .dataframe tbody tr th:only-of-type {\n",
       "        vertical-align: middle;\n",
       "    }\n",
       "\n",
       "    .dataframe tbody tr th {\n",
       "        vertical-align: top;\n",
       "    }\n",
       "\n",
       "    .dataframe thead th {\n",
       "        text-align: right;\n",
       "    }\n",
       "</style>\n",
       "<table border=\"1\" class=\"dataframe\">\n",
       "  <thead>\n",
       "    <tr style=\"text-align: right;\">\n",
       "      <th></th>\n",
       "      <th>Type</th>\n",
       "      <th>Rooms</th>\n",
       "      <th>Price</th>\n",
       "      <th>Distance</th>\n",
       "      <th>Postcode</th>\n",
       "      <th>Bedroom</th>\n",
       "      <th>Bathroom</th>\n",
       "      <th>Car</th>\n",
       "      <th>Landsize</th>\n",
       "      <th>BuildingArea</th>\n",
       "      <th>Lattitude</th>\n",
       "      <th>Longtitude</th>\n",
       "      <th>Propertycount</th>\n",
       "      <th>MeanRoomsSquare</th>\n",
       "      <th>AreaRatio</th>\n",
       "      <th>AgeBuilding</th>\n",
       "    </tr>\n",
       "  </thead>\n",
       "  <tbody>\n",
       "    <tr>\n",
       "      <th>0</th>\n",
       "      <td>house</td>\n",
       "      <td>3.260874</td>\n",
       "      <td>1.242665e+06</td>\n",
       "      <td>10.979479</td>\n",
       "      <td>3104.080643</td>\n",
       "      <td>3.229336</td>\n",
       "      <td>1.613822</td>\n",
       "      <td>1.772674</td>\n",
       "      <td>617.181924</td>\n",
       "      <td>152.162553</td>\n",
       "      <td>-37.803795</td>\n",
       "      <td>144.994700</td>\n",
       "      <td>7259.025505</td>\n",
       "      <td>18.996731</td>\n",
       "      <td>-0.490031</td>\n",
       "      <td>55.669700</td>\n",
       "    </tr>\n",
       "    <tr>\n",
       "      <th>1</th>\n",
       "      <td>townhouse</td>\n",
       "      <td>2.837522</td>\n",
       "      <td>9.337351e+05</td>\n",
       "      <td>9.851346</td>\n",
       "      <td>3100.777379</td>\n",
       "      <td>2.814183</td>\n",
       "      <td>1.809695</td>\n",
       "      <td>1.555655</td>\n",
       "      <td>279.606822</td>\n",
       "      <td>134.649710</td>\n",
       "      <td>-37.815782</td>\n",
       "      <td>144.996489</td>\n",
       "      <td>7094.459605</td>\n",
       "      <td>18.569847</td>\n",
       "      <td>-0.094916</td>\n",
       "      <td>26.690305</td>\n",
       "    </tr>\n",
       "    <tr>\n",
       "      <th>2</th>\n",
       "      <td>unit</td>\n",
       "      <td>1.963871</td>\n",
       "      <td>6.051275e+05</td>\n",
       "      <td>7.607391</td>\n",
       "      <td>3110.797481</td>\n",
       "      <td>1.966523</td>\n",
       "      <td>1.183295</td>\n",
       "      <td>1.128936</td>\n",
       "      <td>477.314219</td>\n",
       "      <td>102.235863</td>\n",
       "      <td>-37.823710</td>\n",
       "      <td>144.996363</td>\n",
       "      <td>8199.280080</td>\n",
       "      <td>21.068242</td>\n",
       "      <td>0.319883</td>\n",
       "      <td>39.703016</td>\n",
       "    </tr>\n",
       "  </tbody>\n",
       "</table>\n",
       "</div>"
      ],
      "text/plain": [
       "        Type     Rooms         Price   Distance     Postcode   Bedroom  \\\n",
       "0      house  3.260874  1.242665e+06  10.979479  3104.080643  3.229336   \n",
       "1  townhouse  2.837522  9.337351e+05   9.851346  3100.777379  2.814183   \n",
       "2       unit  1.963871  6.051275e+05   7.607391  3110.797481  1.966523   \n",
       "\n",
       "   Bathroom       Car    Landsize  BuildingArea  Lattitude  Longtitude  \\\n",
       "0  1.613822  1.772674  617.181924    152.162553 -37.803795  144.994700   \n",
       "1  1.809695  1.555655  279.606822    134.649710 -37.815782  144.996489   \n",
       "2  1.183295  1.128936  477.314219    102.235863 -37.823710  144.996363   \n",
       "\n",
       "   Propertycount  MeanRoomsSquare  AreaRatio  AgeBuilding  \n",
       "0    7259.025505        18.996731  -0.490031    55.669700  \n",
       "1    7094.459605        18.569847  -0.094916    26.690305  \n",
       "2    8199.280080        21.068242   0.319883    39.703016  "
      ]
     },
     "execution_count": 3,
     "metadata": {},
     "output_type": "execute_result"
    }
   ],
   "source": [
    "melb_df.groupby(by='Type', as_index=False).mean()"
   ]
  },
  {
   "attachments": {},
   "cell_type": "markdown",
   "metadata": {},
   "source": [
    "Как правило, нам не нужна информация обо всех столбцах, поэтому агрегирующие методы можно применять только к интересующему нас столбцу. Например, давайте сравним средние цены на объекты в зависимости от их типа:"
   ]
  },
  {
   "cell_type": "code",
   "execution_count": 4,
   "metadata": {},
   "outputs": [
    {
     "data": {
      "text/plain": [
       "Type\n",
       "house        1.242665e+06\n",
       "townhouse    9.337351e+05\n",
       "unit         6.051275e+05\n",
       "Name: Price, dtype: float64"
      ]
     },
     "execution_count": 4,
     "metadata": {},
     "output_type": "execute_result"
    }
   ],
   "source": [
    "melb_df.groupby('Type')['Price'].mean()"
   ]
  },
  {
   "attachments": {},
   "cell_type": "markdown",
   "metadata": {},
   "source": [
    "    Примечание. Обратите внимание, что, так как мы считаем только один показатель (среднее) для одного столбца, в результате мы получаем объект Series."
   ]
  },
  {
   "cell_type": "markdown",
   "metadata": {},
   "source": []
  }
 ],
 "metadata": {
  "kernelspec": {
   "display_name": "Python 3",
   "language": "python",
   "name": "python3"
  },
  "language_info": {
   "codemirror_mode": {
    "name": "ipython",
    "version": 3
   },
   "file_extension": ".py",
   "mimetype": "text/x-python",
   "name": "python",
   "nbconvert_exporter": "python",
   "pygments_lexer": "ipython3",
   "version": "3.10.6"
  },
  "orig_nbformat": 4,
  "vscode": {
   "interpreter": {
    "hash": "916dbcbb3f70747c44a77c7bcd40155683ae19c65e1c03b4aa3499c5328201f1"
   }
  }
 },
 "nbformat": 4,
 "nbformat_minor": 2
}
