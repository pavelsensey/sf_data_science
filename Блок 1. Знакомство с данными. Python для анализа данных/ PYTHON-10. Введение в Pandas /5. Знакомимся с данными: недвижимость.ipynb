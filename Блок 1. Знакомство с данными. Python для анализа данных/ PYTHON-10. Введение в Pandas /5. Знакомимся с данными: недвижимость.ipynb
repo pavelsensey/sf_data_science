{
 "cells": [
  {
   "cell_type": "code",
   "execution_count": 2,
   "metadata": {},
   "outputs": [],
   "source": [
    "import pandas as pd"
   ]
  },
  {
   "cell_type": "markdown",
   "metadata": {},
   "source": [
    "    ✍ Дальнейший разбор инструментария Pandas мы будем проводить на наборе данных с учебного соревнования по анализу данных на Kaggle."
   ]
  },
  {
   "cell_type": "markdown",
   "metadata": {},
   "source": [
    "Данные представляют собой таблицу, в которой содержится 23 столбца:"
   ]
  },
  {
   "cell_type": "markdown",
   "metadata": {},
   "source": [
    "\n",
    "1. index — номер строки\n",
    "2. Suburb — наименование пригорода\n",
    "3. Address — адрес\n",
    "4. Rooms — количество комнат в помещении\n",
    "5. Type — тип здания (h — дом, коттедж, вилла, терраса; u — блочный, дуплексный дом; t — таунхаус)\n",
    "6. Price — цена помещения\n",
    "7. Method — метод продажи \n",
    "8. SellerG — риэлторская компания\n",
    "9. Date — дата продажи (в формате день/месяц/год)\n",
    "10. Distance — расстояния до объекта от центра Мельбурна \n",
    "11. Postcode — почтовый индекс\n",
    "12. Bedroom — количество спален\n",
    "13. Bathroom — количество ванных комнат\n",
    "14. Car — количество парковочных мест\n",
    "15. Landsize — площадь прилегающей территории\n",
    "16. BuildingArea — площадь здания\n",
    "17. YearBuilt — год постройки\n",
    "18. CouncilArea — региональное управление\n",
    "19. Lattitude — географическая широта\n",
    "20. Longitude — географическая долгота\n",
    "21. Regionname — наименование района Мельбурна\n",
    "22. Propertycount — количество объектов недвижимости в районе\n",
    "23. Coordinates — широта и долгота, объединённые в кортеж\n"
   ]
  },
  {
   "cell_type": "markdown",
   "metadata": {},
   "source": [
    "Прочитаем наши данные о недвижимости из csv-файла и запишем результирующий DataFrame в переменную melb_data:"
   ]
  },
  {
   "cell_type": "code",
   "execution_count": 3,
   "metadata": {},
   "outputs": [],
   "source": [
    "melb_data = pd.read_csv('data/melb_data.csv', sep=',')"
   ]
  },
  {
   "cell_type": "markdown",
   "metadata": {},
   "source": [
    "# Задание 5.1 "
   ]
  },
  {
   "cell_type": "markdown",
   "metadata": {},
   "source": [
    "Какова цена объекта недвижимости под индексом 15?"
   ]
  },
  {
   "cell_type": "code",
   "execution_count": 9,
   "metadata": {},
   "outputs": [
    {
     "data": {
      "text/plain": [
       "1310000.0"
      ]
     },
     "execution_count": 9,
     "metadata": {},
     "output_type": "execute_result"
    }
   ],
   "source": [
    "melb_data.Price[15]"
   ]
  },
  {
   "cell_type": "markdown",
   "metadata": {},
   "source": [
    "# Задание 5.2 "
   ]
  },
  {
   "cell_type": "markdown",
   "metadata": {},
   "source": [
    "Когда был продан объект под индексом 90?"
   ]
  },
  {
   "cell_type": "code",
   "execution_count": 10,
   "metadata": {},
   "outputs": [
    {
     "data": {
      "text/plain": [
       "'10/09/2016'"
      ]
     },
     "execution_count": 10,
     "metadata": {},
     "output_type": "execute_result"
    }
   ],
   "source": [
    "melb_data.Date[90]"
   ]
  },
  {
   "cell_type": "markdown",
   "metadata": {},
   "source": [
    "# Задание 5.3 "
   ]
  },
  {
   "cell_type": "markdown",
   "metadata": {},
   "source": [
    "Во сколько раз площадь прилегающей территории, на которой находится здание с индексом 3521, больше площади участка, на котором находится здание с индексом 1690? Ответ округлите до целого числа."
   ]
  },
  {
   "cell_type": "code",
   "execution_count": 11,
   "metadata": {},
   "outputs": [
    {
     "data": {
      "text/plain": [
       "3"
      ]
     },
     "execution_count": 11,
     "metadata": {},
     "output_type": "execute_result"
    }
   ],
   "source": [
    "round(melb_data.Landsize[3521]/melb_data.Landsize[1690])"
   ]
  }
 ],
 "metadata": {
  "kernelspec": {
   "display_name": "Python 3.10.6 64-bit",
   "language": "python",
   "name": "python3"
  },
  "language_info": {
   "codemirror_mode": {
    "name": "ipython",
    "version": 3
   },
   "file_extension": ".py",
   "mimetype": "text/x-python",
   "name": "python",
   "nbconvert_exporter": "python",
   "pygments_lexer": "ipython3",
   "version": "3.10.6"
  },
  "orig_nbformat": 4,
  "vscode": {
   "interpreter": {
    "hash": "916dbcbb3f70747c44a77c7bcd40155683ae19c65e1c03b4aa3499c5328201f1"
   }
  }
 },
 "nbformat": 4,
 "nbformat_minor": 2
}
