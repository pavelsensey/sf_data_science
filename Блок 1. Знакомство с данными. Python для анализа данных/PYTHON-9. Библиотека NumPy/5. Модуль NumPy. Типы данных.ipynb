{
 "cells": [
  {
   "cell_type": "markdown",
   "metadata": {},
   "source": [
    "# Типы данных"
   ]
  },
  {
   "cell_type": "markdown",
   "metadata": {},
   "source": [
    "## Целочисленные типы данных в NumPy"
   ]
  },
  {
   "cell_type": "markdown",
   "metadata": {},
   "source": [
    "    → Начнём с целочисленных типов данных в NumPy."
   ]
  },
  {
   "cell_type": "markdown",
   "metadata": {},
   "source": [
    "    Это тип данных с общим корнем int. Int может быть со следующими окончаниями: int8, int16, int32 и int64. Окончание типа данных в NumPy показывает, сколько битов памяти должно быть выделено для хранения переменной."
   ]
  },
  {
   "cell_type": "markdown",
   "metadata": {},
   "source": [
    "Преобразуем обычное целое число в NumPy-тип, например в int8. Для этого напишем выражение np.int8 и круглые скобки. В круглых скобках в качестве аргумента передадим тот объект, который должен быть преобразован:"
   ]
  },
  {
   "cell_type": "code",
   "execution_count": 18,
   "metadata": {},
   "outputs": [
    {
     "name": "stdout",
     "output_type": "stream",
     "text": [
      "25\n"
     ]
    }
   ],
   "source": [
    "import numpy as np\n",
    "a = np.int8(25)\n",
    "print(a)\n",
    "# 25"
   ]
  },
  {
   "cell_type": "markdown",
   "metadata": {},
   "source": [
    "Как видите, при печати нет никакой разницы между встроенным int и np.int8. Как же понять, что в a теперь действительно NumPy-тип данных? Воспользуемся функцией type:"
   ]
  },
  {
   "cell_type": "code",
   "execution_count": 19,
   "metadata": {},
   "outputs": [
    {
     "name": "stdout",
     "output_type": "stream",
     "text": [
      "<class 'numpy.int8'>\n"
     ]
    }
   ],
   "source": [
    "print(type(a))\n",
    "# <class 'numpy.int8'>"
   ]
  },
  {
   "cell_type": "markdown",
   "metadata": {},
   "source": [
    "Чтобы узнать границы int, можно воспользоваться функцией np.iinfo (int info):"
   ]
  },
  {
   "cell_type": "code",
   "execution_count": 20,
   "metadata": {},
   "outputs": [
    {
     "data": {
      "text/plain": [
       "iinfo(min=-128, max=127, dtype=int8)"
      ]
     },
     "execution_count": 20,
     "metadata": {},
     "output_type": "execute_result"
    }
   ],
   "source": [
    "# Можно применить к самому\n",
    "# названию типа данных\n",
    "np.iinfo(np.int8)\n",
    "# iinfo(min=-128, max=127, dtype=int8)"
   ]
  },
  {
   "cell_type": "code",
   "execution_count": 21,
   "metadata": {},
   "outputs": [
    {
     "data": {
      "text/plain": [
       "iinfo(min=-128, max=127, dtype=int8)"
      ]
     },
     "execution_count": 21,
     "metadata": {},
     "output_type": "execute_result"
    }
   ],
   "source": [
    "# Можно применить к существующему\n",
    "# конкретному объекту\n",
    "np.iinfo(a)\n",
    "# iinfo(min=-128, max=127, dtype=int8)"
   ]
  },
  {
   "cell_type": "markdown",
   "metadata": {},
   "source": [
    "### Задание 5.2 "
   ]
  },
  {
   "cell_type": "markdown",
   "metadata": {},
   "source": [
    "Какое максимальное число может храниться в формате np.int64?"
   ]
  },
  {
   "cell_type": "code",
   "execution_count": 22,
   "metadata": {},
   "outputs": [
    {
     "data": {
      "text/plain": [
       "iinfo(min=-9223372036854775808, max=9223372036854775807, dtype=int64)"
      ]
     },
     "execution_count": 22,
     "metadata": {},
     "output_type": "execute_result"
    }
   ],
   "source": [
    "np.iinfo(np.int64)"
   ]
  },
  {
   "cell_type": "markdown",
   "metadata": {},
   "source": [
    "    В NumPy доступны и беззнаковые целочисленные типы данных. Они имеют корень uint (unsigned int — беззнаковое целое). uint доступны также с выделением памяти в 8, 16, 32 и 64 бита. При этом максимально возможное число оказывается в два раза больше, чем для соответствующего int, поскольку отрицательные числа исключены из типа данных uint."
   ]
  },
  {
   "cell_type": "markdown",
   "metadata": {},
   "source": [
    "Преобразуем число 124 в uint8, а также узнаем пограничные значения полученной переменной:"
   ]
  },
  {
   "cell_type": "code",
   "execution_count": 23,
   "metadata": {},
   "outputs": [
    {
     "name": "stdout",
     "output_type": "stream",
     "text": [
      "124\n",
      "<class 'numpy.uint8'>\n"
     ]
    },
    {
     "data": {
      "text/plain": [
       "iinfo(min=0, max=255, dtype=uint8)"
      ]
     },
     "execution_count": 23,
     "metadata": {},
     "output_type": "execute_result"
    }
   ],
   "source": [
    "b = np.uint8(124)\n",
    "print(b)\n",
    "# 124\n",
    "print(type(b))\n",
    "# <class 'numpy.uint8'>\n",
    "np.iinfo(b)\n",
    "# iinfo(min=0, max=255, dtype=uint8)"
   ]
  },
  {
   "cell_type": "markdown",
   "metadata": {},
   "source": [
    "### Несколько замечаний о приведении типов"
   ]
  },
  {
   "cell_type": "markdown",
   "metadata": {},
   "source": [
    "    1. Тип данных не сохранится, если просто присвоить переменной с заданным NumPy-типом данных новое значение:"
   ]
  },
  {
   "cell_type": "code",
   "execution_count": 24,
   "metadata": {},
   "outputs": [
    {
     "name": "stdout",
     "output_type": "stream",
     "text": [
      "1000\n",
      "<class 'numpy.int32'>\n",
      "2056\n",
      "<class 'int'>\n"
     ]
    }
   ],
   "source": [
    "a = np.int32(1000)\n",
    "print(a)\n",
    "# 1000\n",
    "print(type(a))\n",
    "# <class 'numpy.int32'>\n",
    "a = 2056\n",
    "print(a)\n",
    "# 2056\n",
    "print(type(a))\n",
    "# <class 'int'>"
   ]
  },
  {
   "cell_type": "markdown",
   "metadata": {},
   "source": [
    "Вместо этого следует снова указать нужный NumPy-тип данных:"
   ]
  },
  {
   "cell_type": "code",
   "execution_count": 25,
   "metadata": {},
   "outputs": [
    {
     "name": "stdout",
     "output_type": "stream",
     "text": [
      "1000\n",
      "<class 'numpy.int32'>\n",
      "2056\n",
      "<class 'numpy.int32'>\n"
     ]
    }
   ],
   "source": [
    "a = np.int32(1000)\n",
    "print(a)\n",
    "# 1000\n",
    "print(type(a))\n",
    "# <class 'numpy.int32'>\n",
    "a = np.int32(2056)\n",
    "print(a)\n",
    "# 2056\n",
    "print(type(a))\n",
    "# <class 'numpy.int32'>"
   ]
  },
  {
   "cell_type": "markdown",
   "metadata": {},
   "source": [
    "А вот арифметические операции сохраняют NumPy-тип данных:"
   ]
  },
  {
   "cell_type": "code",
   "execution_count": 26,
   "metadata": {},
   "outputs": [
    {
     "name": "stdout",
     "output_type": "stream",
     "text": [
      "1025\n",
      "<class 'numpy.int64'>\n"
     ]
    }
   ],
   "source": [
    "a = np.int32(1000)\n",
    "b = a + 25\n",
    "print(b)\n",
    "# 1025\n",
    "print(type(b))\n",
    "# <class 'numpy.int64'>"
   ]
  },
  {
   "cell_type": "markdown",
   "metadata": {},
   "source": [
    "    Примечание. В некоторых более старых версиях NumPy тип данных может измениться на int64 вместо ожидаемого int32. Это связано с тем, что число 25 может быть сначала преобразовано в NumPy-тип данных int (по умолчанию int64) перед сложением. Скорее всего, на практике вам не особо помешает такая особенность, однако о ней следует помнить, когда требуется хранить числа максимально оптимальным способом."
   ]
  },
  {
   "cell_type": "markdown",
   "metadata": {},
   "source": [
    "Если операция проводится с двумя NumPy-типами с фиксированным объёмом памяти, в результате сохраняется наиболее «старший» тип:"
   ]
  },
  {
   "cell_type": "code",
   "execution_count": 27,
   "metadata": {},
   "outputs": [
    {
     "name": "stdout",
     "output_type": "stream",
     "text": [
      "1025\n",
      "<class 'numpy.int32'>\n"
     ]
    }
   ],
   "source": [
    "a = np.int32(1000)\n",
    "b = np.int8(25)\n",
    "c = a + b\n",
    "print(c)\n",
    "# 1025\n",
    "print(type(c))\n",
    "# <class 'numpy.int32'>"
   ]
  },
  {
   "cell_type": "markdown",
   "metadata": {},
   "source": [
    "    2. Следует понимать, что произойдёт, если выделенной памяти для хранения переменной окажется недостаточно."
   ]
  },
  {
   "cell_type": "markdown",
   "metadata": {},
   "source": [
    "Например, попробуем преобразовать число 260 в тип данных np.int8. Вспомните, какое максимальное число может храниться в этом типе данных."
   ]
  },
  {
   "cell_type": "code",
   "execution_count": 28,
   "metadata": {},
   "outputs": [
    {
     "name": "stdout",
     "output_type": "stream",
     "text": [
      "4\n"
     ]
    }
   ],
   "source": [
    "a = np.int8(260)\n",
    "print(a)\n",
    "# 4"
   ]
  },
  {
   "cell_type": "markdown",
   "metadata": {},
   "source": [
    "В переменной a теперь оказалось число 4, а не 260. По сути в переменную записался остаток от деления 260 на 256, а не само число. Ошибка при этом не возникла."
   ]
  },
  {
   "cell_type": "markdown",
   "metadata": {},
   "source": [
    "    Если же при арифметических операциях происходит переполнение максимально выделенной памяти для типа, возникает предупреждение."
   ]
  },
  {
   "cell_type": "markdown",
   "metadata": {},
   "source": [
    "Например, выполним сложение двух очень больших чисел типа int32 (максимум для этого типа — 2147483647):"
   ]
  },
  {
   "cell_type": "code",
   "execution_count": 29,
   "metadata": {},
   "outputs": [
    {
     "name": "stdout",
     "output_type": "stream",
     "text": [
      "2147483610 2147483605\n",
      "-81\n"
     ]
    },
    {
     "name": "stderr",
     "output_type": "stream",
     "text": [
      "/tmp/ipykernel_27520/2257502981.py:5: RuntimeWarning: overflow encountered in int_scalars\n",
      "  print(a + b)\n"
     ]
    }
   ],
   "source": [
    "a = np.int32(2147483610)\n",
    "b = np.int32(2147483605)\n",
    "print(a, b)\n",
    "# 2147483610 2147483605\n",
    "print(a + b)\n",
    "# -81\n",
    "# RuntimeWarning: overflow encountered in int_scalars\n",
    "# Переполнено int'овое значение"
   ]
  },
  {
   "cell_type": "markdown",
   "metadata": {},
   "source": [
    "Чтобы избежать этой ошибки, вначале следовало преобразовать переменные к большему типу:"
   ]
  },
  {
   "cell_type": "code",
   "execution_count": 30,
   "metadata": {},
   "outputs": [
    {
     "name": "stdout",
     "output_type": "stream",
     "text": [
      "2147483610 2147483605\n",
      "4294967215\n"
     ]
    }
   ],
   "source": [
    "a = np.int32(2147483610)\n",
    "b = np.int32(2147483605)\n",
    "print(a, b)\n",
    "# 2147483610 2147483605\n",
    "print(np.int64(a) + np.int64(b))\n",
    "# 4294967215"
   ]
  },
  {
   "cell_type": "markdown",
   "metadata": {},
   "source": [
    "## Типы данных с плавающей точкой в NumPy"
   ]
  },
  {
   "cell_type": "markdown",
   "metadata": {},
   "source": [
    "    Доступны следующие типы данных float: float16, float32, float64 (применяется по умолчанию, если объём памяти не задан дополнительно), float128."
   ]
  },
  {
   "cell_type": "markdown",
   "metadata": {},
   "source": [
    "Чтобы узнать границы float и его точность, можно воспользоваться функцией np.finfo(<float тип данных>) (от англ. float info):"
   ]
  },
  {
   "cell_type": "code",
   "execution_count": 31,
   "metadata": {},
   "outputs": [
    {
     "data": {
      "text/plain": [
       "finfo(resolution=0.001, min=-6.55040e+04, max=6.55040e+04, dtype=float16)"
      ]
     },
     "execution_count": 31,
     "metadata": {},
     "output_type": "execute_result"
    }
   ],
   "source": [
    "np.finfo(np.float16)\n",
    "# finfo(resolution=0.001, min=-6.55040e+04, max=6.55040e+04, dtype=float16)"
   ]
  },
  {
   "cell_type": "code",
   "execution_count": 32,
   "metadata": {},
   "outputs": [
    {
     "data": {
      "text/plain": [
       "finfo(resolution=1e-06, min=-3.4028235e+38, max=3.4028235e+38, dtype=float32)"
      ]
     },
     "execution_count": 32,
     "metadata": {},
     "output_type": "execute_result"
    }
   ],
   "source": [
    "np.finfo(np.float32)\n",
    "# finfo(resolution=1e-06, min=-3.4028235e+38, max=3.4028235e+38, dtype=float32)"
   ]
  },
  {
   "cell_type": "code",
   "execution_count": 33,
   "metadata": {},
   "outputs": [
    {
     "data": {
      "text/plain": [
       "finfo(resolution=1e-15, min=-1.7976931348623157e+308, max=1.7976931348623157e+308, dtype=float64)"
      ]
     },
     "execution_count": 33,
     "metadata": {},
     "output_type": "execute_result"
    }
   ],
   "source": [
    "np.finfo(np.float64)\n",
    "# finfo(resolution=1e-15, min=-1.7976931348623157e+308, max=1.7976931348623157e+308, dtype=float64)"
   ]
  },
  {
   "cell_type": "code",
   "execution_count": 34,
   "metadata": {},
   "outputs": [
    {
     "data": {
      "text/plain": [
       "finfo(resolution=1e-18, min=-1.189731495357231765e+4932, max=1.189731495357231765e+4932, dtype=float128)"
      ]
     },
     "execution_count": 34,
     "metadata": {},
     "output_type": "execute_result"
    }
   ],
   "source": [
    "np.finfo(np.float128)\n",
    "# finfo(resolution=1e-18, min=-1.189731495357231765e+4932, max=1.189731495357231765e+4932, dtype=float128)"
   ]
  },
  {
   "cell_type": "markdown",
   "metadata": {},
   "source": [
    "    Примечание. Если ввести в VS Code команду np.finfo(np.float128), ответом будет AttributeError: module 'numpy' has no attribute 'float128'. Всё потому, что numpy.float128 не поддерживается в Windows с использованием компилятора MS. Если вам всё же нужно поработать с numpy.float128, воспользуйтесь онлайн-IDE."
   ]
  },
  {
   "cell_type": "markdown",
   "metadata": {},
   "source": [
    "    Таким образом, минимальным значением float16 является -6.55040e+04, или -65504.0. Максимальное значение — 6.55040e+04, или 65504.0."
   ]
  },
  {
   "cell_type": "markdown",
   "metadata": {},
   "source": [
    "Resolution (от англ. «разрешение») в выводе finfo означает точность, с которой сохраняется десятичная часть числа в стандартном виде. Для float16 это 0.001, то есть числа 4.12 и 4.13 будут отличимы друг от друга, а вот 4.124 и 4.125 — нет. Третий знак числа float16 идёт уже с шагом 0.005:"
   ]
  },
  {
   "cell_type": "code",
   "execution_count": 35,
   "metadata": {},
   "outputs": [
    {
     "name": "stdout",
     "output_type": "stream",
     "text": [
      "4.12\n",
      "4.13\n",
      "4.12\n",
      "4.125\n",
      "4.125\n"
     ]
    }
   ],
   "source": [
    "print(np.float16(4.12))\n",
    "# 4.12\n",
    "print(np.float16(4.13))\n",
    "# 4.13\n",
    "print(np.float16(4.123))\n",
    "# 4.12\n",
    "print(np.float16(4.124))\n",
    "# 4.125\n",
    "print(np.float16(4.125))\n",
    "# 4.125"
   ]
  },
  {
   "cell_type": "markdown",
   "metadata": {},
   "source": [
    "## Дополнительные типы данных в NumPy"
   ]
  },
  {
   "cell_type": "markdown",
   "metadata": {},
   "source": [
    "Полный список (а точнее, словарь) типов данных в NumPy можно получить с помощью атрибута sctypeDict. Вывод не приводится, поскольку в этом словаре содержится более 100 ключей (их число может варьироваться в зависимости от версии NumPy)! Однако основные названия типов данных в NumPy не меняются от версии к версии."
   ]
  },
  {
   "cell_type": "code",
   "execution_count": 36,
   "metadata": {},
   "outputs": [
    {
     "name": "stdout",
     "output_type": "stream",
     "text": [
      "{'?': <class 'numpy.bool_'>, 0: <class 'numpy.bool_'>, 'byte': <class 'numpy.int8'>, 'b': <class 'numpy.int8'>, 1: <class 'numpy.int8'>, 'ubyte': <class 'numpy.uint8'>, 'B': <class 'numpy.uint8'>, 2: <class 'numpy.uint8'>, 'short': <class 'numpy.int16'>, 'h': <class 'numpy.int16'>, 3: <class 'numpy.int16'>, 'ushort': <class 'numpy.uint16'>, 'H': <class 'numpy.uint16'>, 4: <class 'numpy.uint16'>, 'i': <class 'numpy.int32'>, 5: <class 'numpy.int32'>, 'uint': <class 'numpy.uint64'>, 'I': <class 'numpy.uint32'>, 6: <class 'numpy.uint32'>, 'intp': <class 'numpy.int64'>, 'p': <class 'numpy.int64'>, 7: <class 'numpy.int64'>, 'uintp': <class 'numpy.uint64'>, 'P': <class 'numpy.uint64'>, 8: <class 'numpy.uint64'>, 'long': <class 'numpy.int64'>, 'l': <class 'numpy.int64'>, 'ulong': <class 'numpy.uint64'>, 'L': <class 'numpy.uint64'>, 'longlong': <class 'numpy.longlong'>, 'q': <class 'numpy.longlong'>, 9: <class 'numpy.longlong'>, 'ulonglong': <class 'numpy.ulonglong'>, 'Q': <class 'numpy.ulonglong'>, 10: <class 'numpy.ulonglong'>, 'half': <class 'numpy.float16'>, 'e': <class 'numpy.float16'>, 23: <class 'numpy.float16'>, 'f': <class 'numpy.float32'>, 11: <class 'numpy.float32'>, 'double': <class 'numpy.float64'>, 'd': <class 'numpy.float64'>, 12: <class 'numpy.float64'>, 'longdouble': <class 'numpy.float128'>, 'g': <class 'numpy.float128'>, 13: <class 'numpy.float128'>, 'cfloat': <class 'numpy.complex128'>, 'F': <class 'numpy.complex64'>, 14: <class 'numpy.complex64'>, 'cdouble': <class 'numpy.complex128'>, 'D': <class 'numpy.complex128'>, 15: <class 'numpy.complex128'>, 'clongdouble': <class 'numpy.complex256'>, 'G': <class 'numpy.complex256'>, 16: <class 'numpy.complex256'>, 'O': <class 'numpy.object_'>, 17: <class 'numpy.object_'>, 'S': <class 'numpy.bytes_'>, 18: <class 'numpy.bytes_'>, 'unicode': <class 'numpy.str_'>, 'U': <class 'numpy.str_'>, 19: <class 'numpy.str_'>, 'void': <class 'numpy.void'>, 'V': <class 'numpy.void'>, 20: <class 'numpy.void'>, 'M': <class 'numpy.datetime64'>, 21: <class 'numpy.datetime64'>, 'm': <class 'numpy.timedelta64'>, 22: <class 'numpy.timedelta64'>, 'bool8': <class 'numpy.bool_'>, 'b1': <class 'numpy.bool_'>, 'int64': <class 'numpy.int64'>, 'i8': <class 'numpy.int64'>, 'uint64': <class 'numpy.uint64'>, 'u8': <class 'numpy.uint64'>, 'float16': <class 'numpy.float16'>, 'f2': <class 'numpy.float16'>, 'float32': <class 'numpy.float32'>, 'f4': <class 'numpy.float32'>, 'float64': <class 'numpy.float64'>, 'f8': <class 'numpy.float64'>, 'float128': <class 'numpy.float128'>, 'f16': <class 'numpy.float128'>, 'complex64': <class 'numpy.complex64'>, 'c8': <class 'numpy.complex64'>, 'complex128': <class 'numpy.complex128'>, 'c16': <class 'numpy.complex128'>, 'complex256': <class 'numpy.complex256'>, 'c32': <class 'numpy.complex256'>, 'object0': <class 'numpy.object_'>, 'bytes0': <class 'numpy.bytes_'>, 'str0': <class 'numpy.str_'>, 'void0': <class 'numpy.void'>, 'datetime64': <class 'numpy.datetime64'>, 'M8': <class 'numpy.datetime64'>, 'timedelta64': <class 'numpy.timedelta64'>, 'm8': <class 'numpy.timedelta64'>, 'int32': <class 'numpy.int32'>, 'i4': <class 'numpy.int32'>, 'uint32': <class 'numpy.uint32'>, 'u4': <class 'numpy.uint32'>, 'int16': <class 'numpy.int16'>, 'i2': <class 'numpy.int16'>, 'uint16': <class 'numpy.uint16'>, 'u2': <class 'numpy.uint16'>, 'int8': <class 'numpy.int8'>, 'i1': <class 'numpy.int8'>, 'uint8': <class 'numpy.uint8'>, 'u1': <class 'numpy.uint8'>, 'complex_': <class 'numpy.complex128'>, 'int0': <class 'numpy.int64'>, 'uint0': <class 'numpy.uint64'>, 'single': <class 'numpy.float32'>, 'csingle': <class 'numpy.complex64'>, 'singlecomplex': <class 'numpy.complex64'>, 'float_': <class 'numpy.float64'>, 'intc': <class 'numpy.int32'>, 'uintc': <class 'numpy.uint32'>, 'int_': <class 'numpy.int64'>, 'longfloat': <class 'numpy.float128'>, 'clongfloat': <class 'numpy.complex256'>, 'longcomplex': <class 'numpy.complex256'>, 'bool_': <class 'numpy.bool_'>, 'bytes_': <class 'numpy.bytes_'>, 'string_': <class 'numpy.bytes_'>, 'str_': <class 'numpy.str_'>, 'unicode_': <class 'numpy.str_'>, 'object_': <class 'numpy.object_'>, 'int': <class 'numpy.int64'>, 'float': <class 'numpy.float64'>, 'complex': <class 'numpy.complex128'>, 'bool': <class 'numpy.bool_'>, 'object': <class 'numpy.object_'>, 'str': <class 'numpy.str_'>, 'bytes': <class 'numpy.bytes_'>, 'a': <class 'numpy.bytes_'>}\n",
      "136\n"
     ]
    }
   ],
   "source": [
    "print(np.sctypeDict)\n",
    "print(len(np.sctypeDict))\n",
    "# 158, но может быть 135 или 139"
   ]
  },
  {
   "cell_type": "markdown",
   "metadata": {},
   "source": [
    "На самом деле реальных типов данных гораздо меньше, просто одни и те же типы данных могут иметь разные ярлыки. Получить список названий уникальных типов данных NumPy можно с помощью следующего выражения. Попробуйте вспомнить, что делают все функции, которые в нём использованы:"
   ]
  },
  {
   "cell_type": "code",
   "execution_count": 37,
   "metadata": {},
   "outputs": [
    {
     "name": "stdout",
     "output_type": "stream",
     "text": [
      "<class 'numpy.bool_'>\n",
      "<class 'numpy.bytes_'>\n",
      "<class 'numpy.complex128'>\n",
      "<class 'numpy.complex256'>\n",
      "<class 'numpy.complex64'>\n",
      "<class 'numpy.datetime64'>\n",
      "<class 'numpy.float128'>\n",
      "<class 'numpy.float16'>\n",
      "<class 'numpy.float32'>\n",
      "<class 'numpy.float64'>\n",
      "<class 'numpy.int16'>\n",
      "<class 'numpy.int32'>\n",
      "<class 'numpy.int64'>\n",
      "<class 'numpy.int8'>\n",
      "<class 'numpy.longlong'>\n",
      "<class 'numpy.object_'>\n",
      "<class 'numpy.str_'>\n",
      "<class 'numpy.timedelta64'>\n",
      "<class 'numpy.uint16'>\n",
      "<class 'numpy.uint32'>\n",
      "<class 'numpy.uint64'>\n",
      "<class 'numpy.uint8'>\n",
      "<class 'numpy.ulonglong'>\n",
      "<class 'numpy.void'>\n"
     ]
    }
   ],
   "source": [
    "print(*sorted(map(str, set(np.sctypeDict.values()))), sep='\\n')"
   ]
  },
  {
   "cell_type": "markdown",
   "metadata": {},
   "source": [
    "    Следует обратить внимание на типы данных bool_ и str_. Они аналогичны bool и str из встроенных в Python, однако записывать их необходимо именно с нижним подчёркиванием, иначе произойдёт приведение к стандартному типу данных, а не типу NumPy. В целом, существенной разницы между этими типами данных нет, однако о такой двойственности следует помнить при сравнении типов переменных: тип bool не является эквивалентным numpy.bool_, несмотря на то что оба типа данных хранят значения True или False."
   ]
  },
  {
   "cell_type": "markdown",
   "metadata": {},
   "source": [
    "    Примечание: в версиях NumPy 1.20 и выше появится предупреждение, если попытаться привести типы с помощью np.bool или np.str, а не np.bool_ или np.str_. Однако в более ранних версиях данное предупреждение не появляется."
   ]
  },
  {
   "cell_type": "markdown",
   "metadata": {},
   "source": [
    "Пример с bool:"
   ]
  },
  {
   "cell_type": "code",
   "execution_count": 39,
   "metadata": {},
   "outputs": [
    {
     "name": "stdout",
     "output_type": "stream",
     "text": [
      "<class 'bool'>\n",
      "<class 'bool'>\n",
      "<class 'numpy.bool_'>\n",
      "True\n",
      "False\n"
     ]
    },
    {
     "name": "stderr",
     "output_type": "stream",
     "text": [
      "/tmp/ipykernel_27520/1122834797.py:4: DeprecationWarning: `np.bool` is a deprecated alias for the builtin `bool`. To silence this warning, use `bool` by itself. Doing this will not modify any behavior and is safe. If you specifically wanted the numpy scalar type, use `np.bool_` here.\n",
      "Deprecated in NumPy 1.20; for more details and guidance: https://numpy.org/devdocs/release/1.20.0-notes.html#deprecations\n",
      "  a = np.bool(a)\n",
      "/tmp/ipykernel_27520/1122834797.py:12: DeprecationWarning: `np.bool` is a deprecated alias for the builtin `bool`. To silence this warning, use `bool` by itself. Doing this will not modify any behavior and is safe. If you specifically wanted the numpy scalar type, use `np.bool_` here.\n",
      "Deprecated in NumPy 1.20; for more details and guidance: https://numpy.org/devdocs/release/1.20.0-notes.html#deprecations\n",
      "  print(np.bool(True) == np.bool_(True))\n",
      "/tmp/ipykernel_27520/1122834797.py:15: DeprecationWarning: `np.bool` is a deprecated alias for the builtin `bool`. To silence this warning, use `bool` by itself. Doing this will not modify any behavior and is safe. If you specifically wanted the numpy scalar type, use `np.bool_` here.\n",
      "Deprecated in NumPy 1.20; for more details and guidance: https://numpy.org/devdocs/release/1.20.0-notes.html#deprecations\n",
      "  print(type(np.bool(True)) == type(np.bool_(True)))\n"
     ]
    }
   ],
   "source": [
    "a = True\n",
    "print(type(a))\n",
    "# <class 'bool'>\n",
    "a = np.bool(a)\n",
    "print(type(a))\n",
    "# <class 'bool'>\n",
    "a = np.bool_(a)\n",
    "print(type(a))\n",
    "# <class 'numpy.bool_'>\n",
    " \n",
    "# Значения равны\n",
    "print(np.bool(True) == np.bool_(True))\n",
    "# True\n",
    "# А типы — нет:\n",
    "print(type(np.bool(True)) == type(np.bool_(True)))\n",
    "# False"
   ]
  },
  {
   "cell_type": "markdown",
   "metadata": {},
   "source": [
    "Пример со str:"
   ]
  },
  {
   "cell_type": "code",
   "execution_count": 40,
   "metadata": {},
   "outputs": [
    {
     "name": "stdout",
     "output_type": "stream",
     "text": [
      "<class 'str'>\n",
      "<class 'str'>\n",
      "<class 'numpy.str_'>\n"
     ]
    },
    {
     "name": "stderr",
     "output_type": "stream",
     "text": [
      "/tmp/ipykernel_27520/985064762.py:4: DeprecationWarning: `np.str` is a deprecated alias for the builtin `str`. To silence this warning, use `str` by itself. Doing this will not modify any behavior and is safe. If you specifically wanted the numpy scalar type, use `np.str_` here.\n",
      "Deprecated in NumPy 1.20; for more details and guidance: https://numpy.org/devdocs/release/1.20.0-notes.html#deprecations\n",
      "  a = np.str(a)\n"
     ]
    }
   ],
   "source": [
    "a = \"Hello world!\"\n",
    "print(type(a))\n",
    "# <class 'str'>\n",
    "a = np.str(a)\n",
    "print(type(a))\n",
    "# <class 'str'>\n",
    "a = np.str_(a)\n",
    "print(type(a))\n",
    "# <class 'numpy.str_'>"
   ]
  },
  {
   "cell_type": "markdown",
   "metadata": {},
   "source": [
    "    Небольшое замечание про bool: несмотря на то что для хранения значения истина/ложь было бы достаточно только одного бита, из-за особенностей работы с памятью компьютера булевая переменная всё равно занимает в памяти целый байт."
   ]
  },
  {
   "cell_type": "markdown",
   "metadata": {},
   "source": [
    "## Задание 5.5"
   ]
  },
  {
   "cell_type": "markdown",
   "metadata": {},
   "source": [
    "Преобразуйте число -456 в беззнаковый целый тип данных с выделенной памятью 1 байт. Запишите полученное после преобразования число."
   ]
  },
  {
   "cell_type": "code",
   "execution_count": 42,
   "metadata": {},
   "outputs": [
    {
     "name": "stdout",
     "output_type": "stream",
     "text": [
      "56\n"
     ]
    }
   ],
   "source": [
    "a = np.uint8(-456)\n",
    "print(a)"
   ]
  },
  {
   "cell_type": "code",
   "execution_count": null,
   "metadata": {},
   "outputs": [],
   "source": []
  }
 ],
 "metadata": {
  "kernelspec": {
   "display_name": "Python 3.10.7 64-bit",
   "language": "python",
   "name": "python3"
  },
  "language_info": {
   "codemirror_mode": {
    "name": "ipython",
    "version": 3
   },
   "file_extension": ".py",
   "mimetype": "text/x-python",
   "name": "python",
   "nbconvert_exporter": "python",
   "pygments_lexer": "ipython3",
   "version": "3.10.7"
  },
  "orig_nbformat": 4,
  "vscode": {
   "interpreter": {
    "hash": "916dbcbb3f70747c44a77c7bcd40155683ae19c65e1c03b4aa3499c5328201f1"
   }
  }
 },
 "nbformat": 4,
 "nbformat_minor": 2
}
